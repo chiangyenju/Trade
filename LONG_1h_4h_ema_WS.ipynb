{
 "cells": [
  {
   "cell_type": "code",
   "execution_count": 1,
   "id": "cf56829f-461b-4657-a2f7-8fc12a7c286a",
   "metadata": {},
   "outputs": [],
   "source": [
    "# 調整 output 不折疊\n",
    "import pandas as pd\n",
    "pd.set_option('display.max_columns', None)\n",
    "pd.set_option('display.expand_frame_repr', False)\n",
    "pd.set_option('max_colwidth', None)"
   ]
  },
  {
   "cell_type": "code",
   "execution_count": 2,
   "id": "f25e5fdd",
   "metadata": {},
   "outputs": [],
   "source": [
    "exclude_arr =  ['busdusdt', 'tusdusdt', 'usdcusdt', 'daiusdt', 'stethusdt', 'usdtusdt', 'okbusdt', 'wbtcusdt', 'crousdt', 'tonusdt',\n",
    "                'leousdt', 'fraxusdt', 'rethusdt', 'shibusdt', 'xdcusdt', 'mntusdt']\n",
    "symbol_range = 100\n",
    "symbol_cnt = 8"
   ]
  },
  {
   "cell_type": "code",
   "execution_count": 3,
   "id": "141fade1",
   "metadata": {},
   "outputs": [
    {
     "name": "stdout",
     "output_type": "stream",
     "text": [
      "['runeusdt', 'pepeusdt', 'xrdusdt', 'vetusdt', 'minausdt', 'mkrusdt', 'algousdt', 'xmrusdt', 'gmxusdt', 'egldusdt', 'grtusdt', 'dydxusdt', 'stxusdt', 'ftmusdt', 'aptusdt', 'atomusdt', 'xecusdt', 'chzusdt', 'xlmusdt', 'eosusdt', 'hbarusdt', 'flowusdt', 'nearusdt', 'gtusdt', 'bchusdt', 'usddusdt', 'frxethusdt', 'trxusdt', 'cethusdt', 'bnbusdt', 'tkxusdt', 'wbtusdt', 'xautusdt', 'galausdt', 'usdpusdt', 'icpusdt', 'ethusdt', 'maticusdt', 'xrpusdt', 'suiusdt', 'solusdt', 'dotusdt', 'linkusdt', 'xtzusdt', 'htusdt', 'btcusdt', 'opusdt', 'bttusdt', 'kcsusdt', 'etcusdt', 'qntusdt', 'injusdt', 'paxgusdt', 'rndrusdt', 'bgbusdt', 'sandusdt', 'miotausdt', 'filusdt', 'luncusdt', 'apeusdt', 'ltcusdt', 'bsvusdt', 'arbusdt', 'kavausdt', 'csprusdt', 'klayusdt', 'adausdt', 'manausdt', 'avaxusdt', 'uniusdt', 'dogeusdt', 'neousdt', 'ldousdt', 'imxusdt', 'aaveusdt', 'rplusdt', 'crvusdt', 'snxusdt', 'thetausdt', 'fxsusdt', 'axsusdt', 'kasusdt', 'flexusdt', 'rlbusdt']\n"
     ]
    }
   ],
   "source": [
    "import requests\n",
    "\n",
    "# CoinGecko API endpoint for top coins by market cap\n",
    "url = 'https://api.coingecko.com/api/v3/coins/markets'\n",
    "\n",
    "# Request parameters\n",
    "params = {\n",
    "    'vs_currency': 'usd',\n",
    "    'order': 'price_change_percentage_24h',\n",
    "    'per_page': f'{symbol_range}',\n",
    "    'page': '1',\n",
    "    'sparkline': 'false',\n",
    "}\n",
    "\n",
    "# Send a GET request to the API\n",
    "response = requests.get(url, params=params)\n",
    "\n",
    "# Check if the request was successful\n",
    "if response.status_code == 200:\n",
    "    # Parse the response JSON\n",
    "    data = response.json()\n",
    "\n",
    "    # Filter coins with market cap within top 50\n",
    "    top_100_coins = [\n",
    "        coin for coin in data\n",
    "        if coin['market_cap_rank'] <= symbol_range and coin['symbol'].lower() + 'usdt' not in exclude_arr\n",
    "    ]\n",
    "    \n",
    "    # Sort coins by 24-hour percentage change\n",
    "    sorted_coins = sorted(top_100_coins, key=lambda x: x['price_change_percentage_24h'], reverse=True)\n",
    "\n",
    "    # Create an array of USDT pairs\n",
    "    symbol_arr = [coin['symbol'].lower() + 'usdt' for coin in sorted_coins[:symbol_range]]\n",
    "\n",
    "    # Print the symbol array\n",
    "    print(symbol_arr)\n",
    "else:\n",
    "    print(\"Error: Unable to fetch data from CoinGecko API.\")\n"
   ]
  },
  {
   "cell_type": "code",
   "execution_count": 4,
   "id": "791648db-1a1f-46bc-8938-c1ef73575b87",
   "metadata": {},
   "outputs": [
    {
     "name": "stdout",
     "output_type": "stream",
     "text": [
      "Price change percentage for runeusdt: 6.15%\n",
      "Failed to fetch klines data for pepeusdt.\n",
      "Failed to fetch klines data for xrdusdt.\n",
      "Price change percentage for vetusdt: 2.01%\n",
      "Price change percentage for minausdt: 0.84%\n",
      "Price change percentage for mkrusdt: 0.82%\n",
      "Price change percentage for algousdt: -0.52%\n",
      "Price change percentage for xmrusdt: 0.74%\n",
      "Price change percentage for gmxusdt: -0.41%\n",
      "Price change percentage for egldusdt: 0.72%\n",
      "Price change percentage for grtusdt: 0.73%\n",
      "Price change percentage for dydxusdt: -1.21%\n",
      "Price change percentage for stxusdt: 0.67%\n",
      "Price change percentage for ftmusdt: 0.54%\n",
      "Price change percentage for aptusdt: -0.88%\n",
      "Price change percentage for atomusdt: 0.08%\n",
      "Failed to fetch klines data for xecusdt.\n",
      "Price change percentage for chzusdt: 0.13%\n",
      "Price change percentage for xlmusdt: 0.67%\n",
      "Price change percentage for eosusdt: -0.69%\n",
      "Price change percentage for hbarusdt: 0.67%\n",
      "Price change percentage for flowusdt: 0.36%\n",
      "Price change percentage for nearusdt: 0.45%\n",
      "Failed to fetch klines data for gtusdt.\n",
      "Price change percentage for bchusdt: 0.00%\n",
      "Failed to fetch klines data for usddusdt.\n",
      "Failed to fetch klines data for frxethusdt.\n",
      "Price change percentage for trxusdt: -0.05%\n",
      "Failed to fetch klines data for cethusdt.\n",
      "Price change percentage for bnbusdt: 0.00%\n",
      "Failed to fetch klines data for tkxusdt.\n",
      "Failed to fetch klines data for wbtusdt.\n",
      "Failed to fetch klines data for xautusdt.\n",
      "Price change percentage for galausdt: -0.26%\n",
      "Failed to fetch klines data for usdpusdt.\n",
      "Price change percentage for icpusdt: -0.25%\n",
      "Price change percentage for ethusdt: -0.09%\n",
      "Price change percentage for maticusdt: -0.53%\n",
      "Price change percentage for xrpusdt: 0.10%\n",
      "Price change percentage for suiusdt: -0.13%\n",
      "Price change percentage for solusdt: -1.27%\n",
      "Price change percentage for dotusdt: -0.50%\n",
      "Price change percentage for linkusdt: -0.36%\n",
      "Price change percentage for xtzusdt: 0.63%\n",
      "Failed to fetch klines data for htusdt.\n",
      "Price change percentage for btcusdt: -0.20%\n",
      "Price change percentage for opusdt: -0.55%\n",
      "Price change percentage for bttusdt: 0.00%\n",
      "Failed to fetch klines data for kcsusdt.\n",
      "Price change percentage for etcusdt: -0.61%\n",
      "Price change percentage for qntusdt: -0.60%\n",
      "Price change percentage for injusdt: -0.47%\n",
      "Failed to fetch klines data for paxgusdt.\n",
      "Price change percentage for rndrusdt: -0.05%\n",
      "Failed to fetch klines data for bgbusdt.\n",
      "Price change percentage for sandusdt: -0.65%\n",
      "Failed to fetch klines data for miotausdt.\n",
      "Price change percentage for filusdt: -0.46%\n",
      "Failed to fetch klines data for luncusdt.\n",
      "Price change percentage for apeusdt: -1.09%\n",
      "Price change percentage for ltcusdt: -0.66%\n",
      "Failed to fetch klines data for bsvusdt.\n",
      "Price change percentage for arbusdt: -0.83%\n",
      "Price change percentage for kavausdt: -0.51%\n",
      "Failed to fetch klines data for csprusdt.\n",
      "Price change percentage for klayusdt: -0.51%\n",
      "Price change percentage for adausdt: -0.31%\n",
      "Price change percentage for manausdt: -0.97%\n",
      "Price change percentage for avaxusdt: -0.50%\n",
      "Price change percentage for uniusdt: -1.85%\n",
      "Price change percentage for dogeusdt: -1.30%\n",
      "Price change percentage for neousdt: -0.76%\n",
      "Price change percentage for ldousdt: -0.96%\n",
      "Price change percentage for imxusdt: -1.02%\n",
      "Price change percentage for aaveusdt: -1.22%\n",
      "Failed to fetch klines data for rplusdt.\n",
      "Price change percentage for crvusdt: -0.68%\n",
      "Price change percentage for snxusdt: -2.00%\n",
      "Price change percentage for thetausdt: -0.12%\n",
      "Price change percentage for fxsusdt: -0.90%\n",
      "Price change percentage for axsusdt: -2.43%\n",
      "Failed to fetch klines data for kasusdt.\n",
      "Failed to fetch klines data for flexusdt.\n",
      "Failed to fetch klines data for rlbusdt.\n",
      "Top 10 tokens with the highest price change percentage:\n",
      "runeusdt\n",
      "vetusdt\n",
      "minausdt\n",
      "mkrusdt\n",
      "xmrusdt\n",
      "grtusdt\n",
      "egldusdt\n",
      "hbarusdt\n"
     ]
    }
   ],
   "source": [
    "import schedule\n",
    "import requests\n",
    "import time\n",
    "\n",
    "# Binance API endpoint for klines (candlestick data)\n",
    "BINANCE_API_BASE = \"https://fapi.binance.com/fapi/v1\"\n",
    "\n",
    "def get_klines_data(symbol, interval, limit):\n",
    "    url = f\"{BINANCE_API_BASE}/klines\"\n",
    "    params = {\n",
    "        \"symbol\": symbol.upper(),\n",
    "        \"interval\": interval,\n",
    "        \"limit\": limit,\n",
    "    }\n",
    "\n",
    "    response = requests.get(url, params=params)\n",
    "    if response.status_code == 200:\n",
    "        return response.json()\n",
    "    else:\n",
    "        return None\n",
    "\n",
    "def calculate_price_change_percentage(klines):\n",
    "    # Extract the closing prices from the klines data\n",
    "    closing_prices = [float(entry[4]) for entry in klines]\n",
    "\n",
    "    # Calculate the price change percentage\n",
    "    price_change_percentage = (closing_prices[-1] - closing_prices[0]) / closing_prices[0] * 100\n",
    "    return price_change_percentage\n",
    "\n",
    "if __name__ == \"__main__\":\n",
    "    \n",
    "    top_10_tokens = []  # List to store (symbol, price_change_percentage) tuples for top 10 tokens\n",
    "\n",
    "    for symbol in symbol_arr:\n",
    "        klines = get_klines_data(symbol, \"4h\", 5)  # Fetch the last 5 4-hour candlesticks\n",
    "        if klines is None:\n",
    "            print(f\"Failed to fetch klines data for {symbol}.\")\n",
    "        else:\n",
    "            price_change_percentage = calculate_price_change_percentage(klines)\n",
    "            top_10_tokens.append((symbol, price_change_percentage))\n",
    "            print(f\"Price change percentage for {symbol}: {price_change_percentage:.2f}%\")\n",
    "                \n",
    "    # Sort the list of (symbol, price_change_percentage) tuples based on the price change percentage\n",
    "    top_10_tokens.sort(key=lambda x: x[1], reverse=True)\n",
    "\n",
    "    # Get the top 10 tokens based on the highest price change percentage\n",
    "    symbol_arr = [token[0] for token in top_10_tokens[:symbol_cnt]]\n",
    "\n",
    "    print(\"Top 10 tokens with the highest price change percentage:\")\n",
    "    for symbol in symbol_arr:\n",
    "        print(symbol)"
   ]
  },
  {
   "cell_type": "code",
   "execution_count": 5,
   "id": "30d2c67b",
   "metadata": {},
   "outputs": [
    {
     "data": {
      "text/plain": [
       "['runeusdt',\n",
       " 'vetusdt',\n",
       " 'minausdt',\n",
       " 'mkrusdt',\n",
       " 'xmrusdt',\n",
       " 'grtusdt',\n",
       " 'egldusdt',\n",
       " 'hbarusdt']"
      ]
     },
     "execution_count": 5,
     "metadata": {},
     "output_type": "execute_result"
    }
   ],
   "source": [
    "symbol_arr"
   ]
  },
  {
   "cell_type": "code",
   "execution_count": null,
   "id": "a4151e2d",
   "metadata": {},
   "outputs": [
    {
     "name": "stdout",
     "output_type": "stream",
     "text": [
      "Error WS for runeusdt: APIError(code=-5000): GET /fapi/v1/account is retired, please use GET /fapi/v2/account\n"
     ]
    }
   ],
   "source": [
    "import multiprocessing  \n",
    "from multiprocessing import Pool\n",
    "import LONG_1h_4h_ema_WS as strategy\n",
    "\n",
    "\n",
    "if __name__ == '__main__':\n",
    "    pool = Pool(processes=symbol_cnt)\n",
    "    pool.map(strategy.run, symbol_arr)"
   ]
  },
  {
   "cell_type": "code",
   "execution_count": null,
   "id": "6465b377",
   "metadata": {},
   "outputs": [],
   "source": []
  },
  {
   "cell_type": "code",
   "execution_count": null,
   "id": "0d8555da",
   "metadata": {},
   "outputs": [],
   "source": []
  }
 ],
 "metadata": {
  "kernelspec": {
   "display_name": "Python 3 (ipykernel)",
   "language": "python",
   "name": "python3"
  },
  "language_info": {
   "codemirror_mode": {
    "name": "ipython",
    "version": 3
   },
   "file_extension": ".py",
   "mimetype": "text/x-python",
   "name": "python",
   "nbconvert_exporter": "python",
   "pygments_lexer": "ipython3",
   "version": "3.9.17"
  }
 },
 "nbformat": 4,
 "nbformat_minor": 5
}
