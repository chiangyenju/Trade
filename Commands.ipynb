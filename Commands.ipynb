{
 "cells": [
  {
   "cell_type": "code",
   "execution_count": 1,
   "id": "1dccf56f-27c2-41e6-b832-4b47b4e1c9a1",
   "metadata": {},
   "outputs": [],
   "source": [
    "import time\n",
    "import os\n",
    "from binance.client import Client\n",
    "from dotenv import load_dotenv\n",
    "\n",
    "# Get the path to the current directory\n",
    "current_directory = os.getcwd()\n",
    "\n",
    "# Specify the path to the .env file relative to the current directory\n",
    "dotenv_path = os.path.join(current_directory, '.env')\n",
    "\n",
    "# Load the environment variables from the .env file\n",
    "load_dotenv(dotenv_path)\n",
    "\n",
    "api_key = os.getenv('API_KEY')\n",
    "api_secret = os.getenv('SECRET_KEY')\n",
    "\n",
    "client = Client(api_key, api_secret)\n",
    "\n",
    "def has_open_positions():\n",
    "    positions = client.futures_account()\n",
    "    for position in positions['positions']:\n",
    "        quantity = float(position['positionAmt'])\n",
    "        if quantity != 0:\n",
    "            return True\n",
    "    print('No positions')\n",
    "    return False\n",
    "\n",
    "\n",
    "def close_all():\n",
    "    positions = client.futures_account()\n",
    "\n",
    "    for position in positions['positions']:\n",
    "        symbol = position['symbol']\n",
    "        quantity = float(position['positionAmt'])\n",
    "        if float(quantity) != 0:\n",
    "            print(symbol)\n",
    "            \n",
    "            ticker = client.futures_symbol_ticker(symbol=symbol)\n",
    "            current_price = float(ticker['price'])\n",
    "            tick_size = float(ticker['pricePrecision'])\n",
    "            ticks = 4\n",
    "    \n",
    "            if quantity > 0:\n",
    "                side = 'SELL'\n",
    "                positionSide = 'LONG'\n",
    "                exit_price = current_price + (tick_size * ticks)\n",
    "            else:\n",
    "                side = 'BUY'\n",
    "                positionSide = 'SHORT'\n",
    "                exit_price = current_price - (tick_size * ticks)                \n",
    "\n",
    "            while True:\n",
    "                try:\n",
    "                    # Place limit order for exit at current market price\n",
    "                    order = client.futures_create_order(\n",
    "                        symbol=symbol,\n",
    "                        side=side,\n",
    "                        type='LIMIT',\n",
    "                        timeInForce='GTC',\n",
    "                        quantity=abs(quantity),\n",
    "                        price=current_price,\n",
    "                        positionSide=positionSide\n",
    "                    )\n",
    "                    print(order)\n",
    "                    break\n",
    "    \n",
    "                except:\n",
    "                    time.sleep(5)\n",
    "                    \n",
    "def close_all_loop():\n",
    "    while has_open_positions():\n",
    "        close_all()\n",
    "        time.sleep(7)  # Adjust the interval as needed"
   ]
  },
  {
   "cell_type": "code",
   "execution_count": 2,
   "id": "460d67fb-9eb0-491a-80ee-e400c3da8e64",
   "metadata": {},
   "outputs": [
    {
     "name": "stdout",
     "output_type": "stream",
     "text": [
      "RNDRUSDT\n"
     ]
    },
    {
     "ename": "KeyError",
     "evalue": "'pricePrecision'",
     "output_type": "error",
     "traceback": [
      "\u001b[0;31m---------------------------------------------------------------------------\u001b[0m",
      "\u001b[0;31mKeyError\u001b[0m                                  Traceback (most recent call last)",
      "Cell \u001b[0;32mIn[2], line 2\u001b[0m\n\u001b[1;32m      1\u001b[0m \u001b[38;5;28;01mif\u001b[39;00m \u001b[38;5;18m__name__\u001b[39m \u001b[38;5;241m==\u001b[39m \u001b[38;5;124m'\u001b[39m\u001b[38;5;124m__main__\u001b[39m\u001b[38;5;124m'\u001b[39m:\n\u001b[0;32m----> 2\u001b[0m     \u001b[43mclose_all_loop\u001b[49m\u001b[43m(\u001b[49m\u001b[43m)\u001b[49m\n",
      "Cell \u001b[0;32mIn[1], line 73\u001b[0m, in \u001b[0;36mclose_all_loop\u001b[0;34m()\u001b[0m\n\u001b[1;32m     71\u001b[0m \u001b[38;5;28;01mdef\u001b[39;00m \u001b[38;5;21mclose_all_loop\u001b[39m():\n\u001b[1;32m     72\u001b[0m     \u001b[38;5;28;01mwhile\u001b[39;00m has_open_positions():\n\u001b[0;32m---> 73\u001b[0m         \u001b[43mclose_all\u001b[49m\u001b[43m(\u001b[49m\u001b[43m)\u001b[49m\n\u001b[1;32m     74\u001b[0m         time\u001b[38;5;241m.\u001b[39msleep(\u001b[38;5;241m7\u001b[39m)\n",
      "Cell \u001b[0;32mIn[1], line 41\u001b[0m, in \u001b[0;36mclose_all\u001b[0;34m()\u001b[0m\n\u001b[1;32m     39\u001b[0m ticker \u001b[38;5;241m=\u001b[39m client\u001b[38;5;241m.\u001b[39mfutures_symbol_ticker(symbol\u001b[38;5;241m=\u001b[39msymbol)\n\u001b[1;32m     40\u001b[0m current_price \u001b[38;5;241m=\u001b[39m \u001b[38;5;28mfloat\u001b[39m(ticker[\u001b[38;5;124m'\u001b[39m\u001b[38;5;124mprice\u001b[39m\u001b[38;5;124m'\u001b[39m])\n\u001b[0;32m---> 41\u001b[0m tick_size \u001b[38;5;241m=\u001b[39m \u001b[38;5;28mfloat\u001b[39m(\u001b[43mticker\u001b[49m\u001b[43m[\u001b[49m\u001b[38;5;124;43m'\u001b[39;49m\u001b[38;5;124;43mpricePrecision\u001b[39;49m\u001b[38;5;124;43m'\u001b[39;49m\u001b[43m]\u001b[49m)\n\u001b[1;32m     42\u001b[0m ticks \u001b[38;5;241m=\u001b[39m \u001b[38;5;241m4\u001b[39m\n\u001b[1;32m     44\u001b[0m \u001b[38;5;28;01mif\u001b[39;00m quantity \u001b[38;5;241m>\u001b[39m \u001b[38;5;241m0\u001b[39m:\n",
      "\u001b[0;31mKeyError\u001b[0m: 'pricePrecision'"
     ]
    }
   ],
   "source": [
    "if __name__ == '__main__':\n",
    "    close_all_loop()"
   ]
  }
 ],
 "metadata": {
  "kernelspec": {
   "display_name": "Python 3 (ipykernel)",
   "language": "python",
   "name": "python3"
  },
  "language_info": {
   "codemirror_mode": {
    "name": "ipython",
    "version": 3
   },
   "file_extension": ".py",
   "mimetype": "text/x-python",
   "name": "python",
   "nbconvert_exporter": "python",
   "pygments_lexer": "ipython3",
   "version": "3.9.17"
  }
 },
 "nbformat": 4,
 "nbformat_minor": 5
}
