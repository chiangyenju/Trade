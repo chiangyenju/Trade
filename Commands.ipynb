{
 "cells": [
  {
   "cell_type": "code",
   "execution_count": null,
   "id": "1dccf56f-27c2-41e6-b832-4b47b4e1c9a1",
   "metadata": {},
   "outputs": [],
   "source": [
    "import time\n",
    "import os\n",
    "from binance.client import Client\n",
    "from dotenv import load_dotenv\n",
    "\n",
    "# Get the path to the current directory\n",
    "current_directory = os.getcwd()\n",
    "\n",
    "# Specify the path to the .env file relative to the current directory\n",
    "dotenv_path = os.path.join(current_directory, '.env')\n",
    "\n",
    "# Load the environment variables from the .env file\n",
    "load_dotenv(dotenv_path)\n",
    "\n",
    "api_key = os.getenv('API_KEY')\n",
    "api_secret = os.getenv('SECRET_KEY')\n",
    "\n",
    "client = Client(api_key, api_secret)\n",
    "\n",
    "def has_open_positions():\n",
    "    positions = client.futures_account()\n",
    "    for position in positions['positions']:\n",
    "        quantity = float(position['positionAmt'])\n",
    "        if quantity != 0:\n",
    "            return True\n",
    "    print('No positions')\n",
    "    return False\n",
    "    \n",
    "def close_all():\n",
    "    positions = client.futures_account()\n",
    "\n",
    "    for position in positions['positions']:\n",
    "        symbol = position['symbol']\n",
    "        quantity = float(position['positionAmt'])\n",
    "        if float(quantity) != 0:\n",
    "            print(symbol)\n",
    "            \n",
    "            ticker = client.futures_symbol_ticker(symbol=symbol)\n",
    "            current_price = float(ticker['price'])\n",
    "    \n",
    "            if quantity > 0:\n",
    "                side = 'SELL'\n",
    "                positionSide = 'LONG'\n",
    "            else:\n",
    "                side = 'BUY'\n",
    "                positionSide = 'SHORT'\n",
    "    \n",
    "            # Place limit order for exit at current market price\n",
    "            order = client.futures_create_order(\n",
    "                symbol=symbol,\n",
    "                side=side,\n",
    "                type='LIMIT',\n",
    "                timeInForce='GTC',\n",
    "                quantity=abs(quantity),\n",
    "                price=current_price,\n",
    "                positionSide=positionSide\n",
    "            )\n",
    "            print(order)\n",
    "\n",
    "def close_all_loop():\n",
    "    while has_open_positions():\n",
    "        close_all()\n",
    "        time.sleep(7)  # Adjust the interval as needed"
   ]
  },
  {
   "cell_type": "code",
   "execution_count": null,
   "id": "460d67fb-9eb0-491a-80ee-e400c3da8e64",
   "metadata": {},
   "outputs": [],
   "source": [
    "if __name__ == '__main__':\n",
    "    close_all_loop()"
   ]
  }
 ],
 "metadata": {
  "kernelspec": {
   "display_name": "Python 3 (ipykernel)",
   "language": "python",
   "name": "python3"
  },
  "language_info": {
   "codemirror_mode": {
    "name": "ipython",
    "version": 3
   },
   "file_extension": ".py",
   "mimetype": "text/x-python",
   "name": "python",
   "nbconvert_exporter": "python",
   "pygments_lexer": "ipython3",
   "version": "3.9.17"
  }
 },
 "nbformat": 4,
 "nbformat_minor": 5
}
