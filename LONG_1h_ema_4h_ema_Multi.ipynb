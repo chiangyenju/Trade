{
 "cells": [
  {
   "cell_type": "code",
   "execution_count": 1,
   "id": "cf56829f-461b-4657-a2f7-8fc12a7c286a",
   "metadata": {},
   "outputs": [],
   "source": [
    "# 調整 output 不折疊\n",
    "import pandas as pd\n",
    "pd.set_option('display.max_columns', None)\n",
    "pd.set_option('display.expand_frame_repr', False)\n",
    "pd.set_option('max_colwidth', None)"
   ]
  },
  {
   "cell_type": "code",
   "execution_count": 2,
   "id": "f25e5fdd",
   "metadata": {},
   "outputs": [],
   "source": [
    "exclude_arr =  ['busdusdt', 'tusdusdt', 'usdcusdt', 'daiusdt', 'stethusdt', 'usdtusdt', 'okbusdt', 'wbtcusdt', 'crousdt', 'tonusdt',\n",
    "                'leousdt']\n",
    "symbol_cnt = 9"
   ]
  },
  {
   "cell_type": "code",
   "execution_count": 3,
   "id": "141fade1",
   "metadata": {},
   "outputs": [
    {
     "name": "stdout",
     "output_type": "stream",
     "text": [
      "['xrpusdt', 'xlmusdt', 'bchusdt', 'hbarusdt', 'icpusdt', 'ltcusdt', 'uniusdt', 'trxusdt', 'ethusdt']\n"
     ]
    }
   ],
   "source": [
    "import requests\n",
    "\n",
    "# CoinGecko API endpoint for top coins by market cap\n",
    "url = 'https://api.coingecko.com/api/v3/coins/markets'\n",
    "\n",
    "# Request parameters\n",
    "params = {\n",
    "    'vs_currency': 'usd',\n",
    "    'order': 'price_change_percentage_24h',\n",
    "    'per_page': '40',\n",
    "    'page': '1',\n",
    "    'sparkline': 'false',\n",
    "}\n",
    "\n",
    "# Send a GET request to the API\n",
    "response = requests.get(url, params=params)\n",
    "\n",
    "# Check if the request was successful\n",
    "if response.status_code == 200:\n",
    "    # Parse the response JSON\n",
    "    data = response.json()\n",
    "\n",
    "    # Filter coins with market cap within top 50\n",
    "    top_50_coins = [\n",
    "        coin for coin in data\n",
    "        if coin['market_cap_rank'] <= 40 and coin['symbol'].lower() + 'usdt' not in exclude_arr\n",
    "    ]\n",
    "    \n",
    "    # Sort coins by 24-hour percentage change\n",
    "    sorted_coins = sorted(top_50_coins, key=lambda x: x['price_change_percentage_24h'], reverse=True)\n",
    "\n",
    "    # Create an array of USDT pairs\n",
    "    symbol_arr = [coin['symbol'].lower() + 'usdt' for coin in sorted_coins[:symbol_cnt]]\n",
    "\n",
    "    # Print the symbol array\n",
    "    print(symbol_arr)\n",
    "else:\n",
    "    print(\"Error: Unable to fetch data from CoinGecko API.\")\n"
   ]
  },
  {
   "cell_type": "code",
   "execution_count": 4,
   "id": "30d2c67b",
   "metadata": {},
   "outputs": [
    {
     "data": {
      "text/plain": [
       "['xrpusdt',\n",
       " 'xlmusdt',\n",
       " 'bchusdt',\n",
       " 'hbarusdt',\n",
       " 'icpusdt',\n",
       " 'ltcusdt',\n",
       " 'uniusdt',\n",
       " 'trxusdt',\n",
       " 'ethusdt']"
      ]
     },
     "execution_count": 4,
     "metadata": {},
     "output_type": "execute_result"
    }
   ],
   "source": [
    "symbol_arr"
   ]
  },
  {
   "cell_type": "code",
   "execution_count": null,
   "id": "a4151e2d",
   "metadata": {
    "scrolled": true
   },
   "outputs": [
    {
     "name": "stdout",
     "output_type": "stream",
     "text": [
      "No LONG position for ltcusdt\n",
      "               Open_Time   Open    Low  Close     Volume    c1    c2     c3     c4       bb_u  ema_18_4h\n",
      "237  2023-07-19 15:00:00  92.85  92.78  93.00  30125.592  True  True  False  False  94.369758  92.711054\n",
      "238  2023-07-19 16:00:00  93.01  92.86  92.93  22042.098  True  True  False   True  94.393483  92.707136\n",
      "239  2023-07-19 17:00:00  92.93  92.41  92.57  35548.304  True  True  False   True  94.401943  92.703218\n",
      "----------------------------------------------------------------------------\n",
      "No LONG position for ethusdt\n",
      "               Open_Time     Open      Low    Close      Volume    c1    c2     c3    c4         bb_u    ema_18_4h\n",
      "237  2023-07-19 15:00:00  1909.15  1904.52  1912.80  12042.9508  True  True  False  True  1919.126179  1909.130719\n",
      "238  2023-07-19 16:00:00  1912.81  1908.97  1910.00   6384.5772  True  True  False  True  1919.320377  1908.924865\n",
      "239  2023-07-19 17:00:00  1910.00  1900.21  1901.72   5230.5800  True  True  False  True  1919.322885  1908.719012\n",
      "----------------------------------------------------------------------------\n",
      "No LONG position for bchusdt\n",
      "               Open_Time   Open    Low  Close    Volume     c1    c2     c3    c4        bb_u   ema_18_4h\n",
      "237  2023-07-19 15:00:00  245.6  244.6  245.5  5054.057  False  True  False  True  251.609189  246.093998\n",
      "238  2023-07-19 16:00:00  245.5  244.9  245.0  2260.642  False  True  False  True  250.672611  246.030276\n",
      "239  2023-07-19 17:00:00  244.9  243.8  243.8   877.958  False  True  False  True  250.511865  245.966553\n",
      "----------------------------------------------------------------------------\n"
     ]
    }
   ],
   "source": [
    "import multiprocessing  \n",
    "from multiprocessing import Pool\n",
    "import LONG_1h_ema_4h_ema_Multi as strategy\n",
    "\n",
    "\n",
    "if __name__ == '__main__':\n",
    "    pool = Pool(processes=symbol_cnt)\n",
    "    pool.map(strategy.run, symbol_arr)"
   ]
  },
  {
   "cell_type": "code",
   "execution_count": null,
   "id": "6465b377",
   "metadata": {},
   "outputs": [],
   "source": []
  },
  {
   "cell_type": "code",
   "execution_count": null,
   "id": "0d8555da",
   "metadata": {},
   "outputs": [],
   "source": []
  }
 ],
 "metadata": {
  "kernelspec": {
   "display_name": "Python 3 (ipykernel)",
   "language": "python",
   "name": "python3"
  },
  "language_info": {
   "codemirror_mode": {
    "name": "ipython",
    "version": 3
   },
   "file_extension": ".py",
   "mimetype": "text/x-python",
   "name": "python",
   "nbconvert_exporter": "python",
   "pygments_lexer": "ipython3",
   "version": "3.9.17"
  }
 },
 "nbformat": 4,
 "nbformat_minor": 5
}
