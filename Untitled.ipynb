{
 "cells": [
  {
   "cell_type": "code",
   "execution_count": null,
   "id": "afa1925e",
   "metadata": {},
   "outputs": [],
   "source": [
    "import pandas as pd\n",
    "import numpy as np\n",
    "import talib\n",
    "\n",
    "# Load historical price data\n",
    "df = pd.read_csv('price_data.csv')\n",
    "\n",
    "# Calculate RSI using talib library\n",
    "rsi_period = 14\n",
    "df['rsi'] = talib.RSI(df['Close'], timeperiod=rsi_period)\n",
    "\n",
    "# Identify recent candlestick highs and lows\n",
    "lookback_period = 10\n",
    "df['rolling_high'] = df['High'].rolling(window=lookback_period).max()\n",
    "df['rolling_low'] = df['Low'].rolling(window=lookback_period).min()\n",
    "\n",
    "# Identify bullish and bearish divergences\n",
    "bull_divergence = ((df['Close'] < df['rolling_high']) & (df['rsi'] > df['rsi'].shift(1)))\n",
    "bear_divergence = ((df['Close'] > df['rolling_low']) & (df['rsi'] < df['rsi'].shift(1)))\n",
    "\n",
    "# Output signals\n",
    "df['bull_divergence'] = np.where(bull_divergence, 1, 0)\n",
    "df['bear_divergence'] = np.where(bear_divergence, 1, 0)\n",
    "\n",
    "# Print signals\n",
    "print(df[['Date', 'Close', 'rsi', 'bull_divergence', 'bear_divergence']])"
   ]
  }
 ],
 "metadata": {
  "kernelspec": {
   "display_name": "Python 3 (ipykernel)",
   "language": "python",
   "name": "python3"
  },
  "language_info": {
   "codemirror_mode": {
    "name": "ipython",
    "version": 3
   },
   "file_extension": ".py",
   "mimetype": "text/x-python",
   "name": "python",
   "nbconvert_exporter": "python",
   "pygments_lexer": "ipython3",
   "version": "3.9.13"
  }
 },
 "nbformat": 4,
 "nbformat_minor": 5
}
