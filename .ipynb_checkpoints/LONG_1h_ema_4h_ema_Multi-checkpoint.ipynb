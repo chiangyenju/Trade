{
 "cells": [
  {
   "cell_type": "code",
   "execution_count": 1,
   "id": "a4151e2d",
   "metadata": {},
   "outputs": [
    {
     "ename": "SyntaxError",
     "evalue": "invalid syntax (3367949983.py, line 3)",
     "output_type": "error",
     "traceback": [
      "\u001b[1;36m  File \u001b[1;32m\"C:\\Users\\yenju\\AppData\\Local\\Temp\\ipykernel_20324\\3367949983.py\"\u001b[1;36m, line \u001b[1;32m3\u001b[0m\n\u001b[1;33m    import LONG_1h_ema_4h_ema_Multi a\u001b[0m\n\u001b[1;37m                                    ^\u001b[0m\n\u001b[1;31mSyntaxError\u001b[0m\u001b[1;31m:\u001b[0m invalid syntax\n"
     ]
    }
   ],
   "source": [
    "import multiprocessing  \n",
    "from multiprocessing import Pool\n",
    "import LONG_1h_ema_4h_ema_Multi a\n",
    "\n",
    "\n",
    "if __name__ == '__main__':\n",
    "    pool = Pool()\n",
    "    symbol_arr = ['sandusdt', 'dydxusdt', 'solusdt', 'avaxusdt', 'ftmusdt', 'nearusdt', 'imxusdt']\n",
    "    pool.map(LONG_1h_ema_4h_ema_Multi.run, symbol_arr)"
   ]
  },
  {
   "cell_type": "code",
   "execution_count": null,
   "id": "6465b377",
   "metadata": {},
   "outputs": [],
   "source": []
  },
  {
   "cell_type": "code",
   "execution_count": null,
   "id": "0d8555da",
   "metadata": {},
   "outputs": [],
   "source": []
  }
 ],
 "metadata": {
  "kernelspec": {
   "display_name": "Python 3 (ipykernel)",
   "language": "python",
   "name": "python3"
  },
  "language_info": {
   "codemirror_mode": {
    "name": "ipython",
    "version": 3
   },
   "file_extension": ".py",
   "mimetype": "text/x-python",
   "name": "python",
   "nbconvert_exporter": "python",
   "pygments_lexer": "ipython3",
   "version": "3.9.13"
  }
 },
 "nbformat": 4,
 "nbformat_minor": 5
}
