{
 "cells": [
  {
   "cell_type": "code",
   "execution_count": 1,
   "id": "71028aa3",
   "metadata": {},
   "outputs": [],
   "source": [
    "import websocket\n",
    "import json\n",
    "import pandas"
   ]
  },
  {
   "cell_type": "code",
   "execution_count": null,
   "id": "8dcd16bc",
   "metadata": {},
   "outputs": [],
   "source": []
  },
  {
   "cell_type": "code",
   "execution_count": null,
   "id": "4c32f1f1",
   "metadata": {},
   "outputs": [],
   "source": [
    "endpoint = 'wss://stream.binance.com:9443/ws'"
   ]
  },
  {
   "cell_type": "code",
   "execution_count": null,
   "id": "00dc63f9",
   "metadata": {},
   "outputs": [],
   "source": [
    "data = json.dumps({'method':'SUBSCRIBE','params':['ethusdt@ticker'],'id':1})"
   ]
  },
  {
   "cell_type": "code",
   "execution_count": null,
   "id": "0a10ef15",
   "metadata": {},
   "outputs": [],
   "source": [
    "def on_open(ws):\n",
    "    ws.send(data)\n",
    "\n",
    "def on_message(ws, message):\n",
    "    out = json.loads(message)\n",
    "    print(out)"
   ]
  },
  {
   "cell_type": "code",
   "execution_count": 15,
   "id": "a92c601b",
   "metadata": {},
   "outputs": [],
   "source": [
    "ws = websocket.WebSocketApp(endpoint, on_message = on_message, on_open = on_open)"
   ]
  },
  {
   "cell_type": "code",
   "execution_count": null,
   "id": "4055886b",
   "metadata": {},
   "outputs": [],
   "source": [
    "ws.run_forever()"
   ]
  },
  {
   "cell_type": "code",
   "execution_count": null,
   "id": "088cb626",
   "metadata": {},
   "outputs": [],
   "source": []
  },
  {
   "cell_type": "code",
   "execution_count": null,
   "id": "67f96565",
   "metadata": {},
   "outputs": [],
   "source": []
  },
  {
   "cell_type": "code",
   "execution_count": null,
   "id": "a3c4c006",
   "metadata": {},
   "outputs": [],
   "source": []
  },
  {
   "cell_type": "code",
   "execution_count": null,
   "id": "9d6ce77d",
   "metadata": {},
   "outputs": [],
   "source": []
  },
  {
   "cell_type": "code",
   "execution_count": null,
   "id": "5650cb02",
   "metadata": {},
   "outputs": [],
   "source": []
  }
 ],
 "metadata": {
  "kernelspec": {
   "display_name": "Python 3 (ipykernel)",
   "language": "python",
   "name": "python3"
  },
  "language_info": {
   "codemirror_mode": {
    "name": "ipython",
    "version": 3
   },
   "file_extension": ".py",
   "mimetype": "text/x-python",
   "name": "python",
   "nbconvert_exporter": "python",
   "pygments_lexer": "ipython3",
   "version": "3.9.13"
  }
 },
 "nbformat": 4,
 "nbformat_minor": 5
}
