{
 "cells": [
  {
   "cell_type": "code",
   "execution_count": 1,
   "id": "293e5b55",
   "metadata": {},
   "outputs": [],
   "source": [
    "# kd cross，close > ema 8, ema 8 > ema 18, ema 18 > 38, take profit atr, stop loss atr"
   ]
  },
  {
   "cell_type": "code",
   "execution_count": 2,
   "id": "8514de69",
   "metadata": {},
   "outputs": [],
   "source": [
    "import websocket\n",
    "import requests\n",
    "import json\n",
    "import pandas as pd\n",
    "import datetime as dt\n",
    "import numpy as np\n",
    "import time\n",
    "import ta\n",
    "from dotenv import load_dotenv\n",
    "import os\n",
    "from binance.client import Client\n",
    "from IPython.display import clear_output\n",
    "import winsound"
   ]
  },
  {
   "cell_type": "code",
   "execution_count": 3,
   "id": "2093400d",
   "metadata": {},
   "outputs": [
    {
     "data": {
      "text/html": [
       "<style>.container { width:100% ! important; }<style>"
      ],
      "text/plain": [
       "<IPython.core.display.HTML object>"
      ]
     },
     "metadata": {},
     "output_type": "display_data"
    }
   ],
   "source": [
    "# 調整 notebook 寬物\n",
    "from IPython.display import display, HTML\n",
    "display(HTML(\"<style>.container { width:100% ! important; }<style>\"))\n",
    "\n",
    "# 調整 output 不折疊\n",
    "pd.set_option('display.max_columns', None)\n",
    "pd.set_option('display.expand_frame_repr', False)\n",
    "pd.set_option('max_colwidth', None)"
   ]
  },
  {
   "cell_type": "code",
   "execution_count": 4,
   "id": "7fb59e6e",
   "metadata": {},
   "outputs": [],
   "source": [
    "frequency = 250  # Set Frequency To 2500 Hertz\n",
    "duration = 300  # Set Duration To 1000 ms == 1 second\n",
    "winsound.Beep(frequency, duration)"
   ]
  },
  {
   "cell_type": "code",
   "execution_count": 5,
   "id": "4ddd0d90",
   "metadata": {
    "scrolled": true
   },
   "outputs": [
    {
     "name": "stdout",
     "output_type": "stream",
     "text": [
      "    asset        free      locked\n",
      "0     BTC  0.00000000  0.00000000\n",
      "1     LTC  0.00000000  0.00000000\n",
      "2     ETH  0.00000000  0.00000000\n",
      "3     NEO  0.00000000  0.00000000\n",
      "4     BNB  0.04622450  0.00000000\n",
      "..    ...         ...         ...\n",
      "530   SYN  0.00000000  0.00000000\n",
      "531  LQTY  0.00000000  0.00000000\n",
      "532    ID  0.00000000  0.00000000\n",
      "533   ARB  0.00000000  0.00000000\n",
      "534  RDNT  0.00000000  0.00000000\n",
      "\n",
      "[535 rows x 3 columns]\n"
     ]
    }
   ],
   "source": [
    "load_dotenv()\n",
    "\n",
    "api_key = os.getenv('API_KEY')\n",
    "api_secret = os.getenv('SECRET_KEY')\n",
    "\n",
    "client = Client(api_key, api_secret, testnet = False)\n",
    "\n",
    "spot = client.get_account()\n",
    "s_bal = pd.DataFrame(spot['balances'])\n",
    "print(s_bal)\n"
   ]
  },
  {
   "cell_type": "code",
   "execution_count": 6,
   "id": "2b700831",
   "metadata": {},
   "outputs": [],
   "source": [
    "timezone = 8\n",
    "endpoint = 'wss://stream.binance.com:9443/ws'\n",
    "symbol = 'ethusdt'\n",
    "symbol_C = symbol.upper()\n",
    "interval = '15m'\n",
    "\n",
    "# start epoch till now\n",
    "start_time = 1679533448000\n",
    "end_time = round(time.time() * 1000)\n",
    "\n",
    "# step between timestamps in milliseconds, 60000 = 1min \n",
    "step = 60000 * 3600"
   ]
  },
  {
   "cell_type": "code",
   "execution_count": 7,
   "id": "52961417",
   "metadata": {},
   "outputs": [],
   "source": [
    "data = json.dumps({'method':'SUBSCRIBE','params':[symbol + '@kline_' + interval],'id':1})"
   ]
  },
  {
   "cell_type": "code",
   "execution_count": 8,
   "id": "1fde3271",
   "metadata": {},
   "outputs": [],
   "source": [
    "# 先抓歷史資料好讓技術指標能成型\n",
    "def get_historical(symbol, interval, start_time, end_time, step):\n",
    "    \n",
    "    raw_df = pd.DataFrame()\n",
    "    \n",
    "    url = \"https://api.binance.com/api/v3/klines\"\n",
    "    \n",
    "    for timestamp in range(start_time, end_time, step):\n",
    "        params = {\"symbol\": symbol_C,\n",
    "                  \"interval\": interval,\n",
    "                  \"startTime\": timestamp,\n",
    "                  \"endTime\": timestamp + step}\n",
    "        response = requests.get(url, params=params).json()\n",
    "        out = pd.DataFrame(response, columns = [\"Open time\", \"Open\", \"High\", \"Low\", \"Close\",\n",
    "                                               \"Volume\", \"Close_Time\", \"Quote asset volume\",\n",
    "                                               \"Number of trades\", \"Taker buy base asset volume\",\n",
    "                                               \"Taker buy quote asset volume\", \"Ignore\"])\n",
    "        raw_df = pd.concat([raw_df, out], axis = 0)\n",
    "    \n",
    "    raw_df = raw_df[['Close_Time', 'Open', 'Close', \"High\", \"Low\", 'Volume']]\n",
    "    convert_dict = {'Close_Time': float, 'Open': float, 'Close': float, \"High\": float, \"Low\": float, 'Volume': float}\n",
    "    raw_df = raw_df.astype(convert_dict)\n",
    "\n",
    "    raw_df['Close_Time'] = pd.to_datetime(raw_df['Close_Time'], unit = 'ms')\n",
    "    raw_df['Close_Time'] = raw_df['Close_Time'] + pd.Timedelta(hours=timezone)\n",
    "    raw_df['Close_Time'] = raw_df['Close_Time'].dt.strftime('%Y-%m-%d %H:%M:%S')\n",
    "    \n",
    "    raw_df = raw_df.reset_index(drop=True)\n",
    "    \n",
    "    return raw_df"
   ]
  },
  {
   "cell_type": "code",
   "execution_count": 9,
   "id": "1041b17b",
   "metadata": {},
   "outputs": [
    {
     "name": "stdout",
     "output_type": "stream",
     "text": [
      "              Close_Time     Open    Close     High      Low     Volume\n",
      "0    2023-03-23 09:29:59  1734.35  1733.60  1736.16  1731.41  3640.5464\n",
      "1    2023-03-23 09:44:59  1733.61  1732.90  1735.89  1732.58  3048.7296\n",
      "2    2023-03-23 09:59:59  1732.91  1730.06  1734.00  1729.54  4409.5993\n",
      "3    2023-03-23 10:14:59  1730.06  1734.54  1734.82  1729.35  2969.2861\n",
      "4    2023-03-23 10:29:59  1734.54  1735.44  1735.93  1733.92  2705.6078\n",
      "..                   ...      ...      ...      ...      ...        ...\n",
      "719  2023-03-30 22:29:59  1787.62  1794.60  1797.74  1787.62  8210.3562\n",
      "720  2023-03-30 22:44:59  1794.60  1794.70  1798.39  1789.58  4976.0738\n",
      "721  2023-03-30 22:59:59  1794.69  1795.01  1795.71  1792.16  2882.2873\n",
      "722  2023-03-30 23:14:59  1795.00  1793.34  1796.61  1792.00  8498.1168\n",
      "723  2023-03-30 23:29:59  1793.34  1793.09  1794.99  1792.32  1576.7830\n",
      "\n",
      "[724 rows x 6 columns]\n"
     ]
    }
   ],
   "source": [
    "raw_df = get_historical(symbol, interval, start_time, end_time, step)\n",
    "print(raw_df)"
   ]
  },
  {
   "cell_type": "code",
   "execution_count": 10,
   "id": "ccd57370",
   "metadata": {},
   "outputs": [],
   "source": [
    "def indicators(df):\n",
    "\n",
    "# ema\n",
    "    for i in (8, 18, 38):\n",
    "        df['ema_'+str(i)] = ta.trend.ema_indicator(df.Close, window=i)\n",
    "\n",
    "# atr\n",
    "    df['atr'] = ta.volatility.average_true_range(df.High, df.Low, df.Close)\n",
    "\n",
    "# kd\n",
    "    kd_int = 14\n",
    "    d_int = 3\n",
    "   \n",
    "    kd_df = pd.DataFrame()\n",
    "    kd_df[str(kd_int) + '-Low'] = df['Low'].rolling(kd_int).min()\n",
    "    kd_df[str(kd_int) + '-High'] = df['High'].rolling(kd_int).max()\n",
    "    df['slow_k'] = (df['Close'] - kd_df[str(kd_int) + '-Low'])*100/(kd_df[str(kd_int) + '-High'] - kd_df[str(kd_int) + '-Low'])\n",
    "    df['slow_d'] = df['slow_k'].rolling(d_int).mean()\n",
    "    \n",
    "    return df\n",
    "\n",
    "def checkcross(df):\n",
    "    \n",
    "    series = df['slow_k'] > df['slow_d']\n",
    "    return series.diff()\n"
   ]
  },
  {
   "cell_type": "code",
   "execution_count": 11,
   "id": "043881a3",
   "metadata": {},
   "outputs": [],
   "source": [
    "def conditions(df):\n",
    "    \n",
    "    df['kd_cross'] = checkcross(df)\n",
    "\n",
    "    for index, row in df.iterrows():\n",
    "        # c1\n",
    "        df['c1'] = df['kd_cross']\n",
    "        # c2\n",
    "        df['c2'] = df['Close'] >= df['ema_8']\n",
    "        # c3\n",
    "        df['c3'] = df['ema_8'] >= df['ema_18']\n",
    "        # c4\n",
    "        df['c4'] = df['ema_18'] >= df['ema_38']\n",
    "\n",
    "    # 條件達成\n",
    "    df['signal'] = False\n",
    "    df.loc[df.c1 & df.c2 & df.c3 & df.c4, 'signal'] = True\n",
    "            \n",
    "    # 下一根進場\n",
    "    df['open_entry'] = False\n",
    "\n",
    "    return df\n"
   ]
  },
  {
   "cell_type": "code",
   "execution_count": 12,
   "id": "01eec982",
   "metadata": {},
   "outputs": [],
   "source": [
    "def enter_position(df):\n",
    "    \n",
    "    global symbol_C\n",
    "    \n",
    "    #-----Calculate entry price-----#\n",
    "    close_val = df['Close']\n",
    "    atr_val = df['atr']\n",
    "    df.loc[df.index[-1], 'entry_p'] = close_val.loc[close_val.index[-2]]\n",
    "    df.loc[df.index[-1], 'stop_loss'] = close_val.loc[close_val.index[-2]] - 3 * atr_val.loc[atr_val.index[-2]]\n",
    "    df.loc[df.index[-1], 'take_profit'] = close_val.loc[close_val.index[-2]] + 3.5 * atr_val.loc[atr_val.index[-2]]\n",
    "\n",
    "    #-----position attributes-----#\n",
    "    quantity = 0.1\n",
    "    entry_p = df.loc[df.index[-2], 'Close']\n",
    "    stop_loss_p = round(df.loc[df.index[-1], 'stop_loss'], 2)\n",
    "    take_profit_p = round(df.loc[df.index[-1], 'take_profit'], 2)\n",
    "    \n",
    "    \n",
    "    open_orders = client.futures_get_open_orders()\n",
    "    \n",
    "    # Cancel all open orders\n",
    "    if open_orders:\n",
    "        # Cancel all open orders\n",
    "        for order in open_orders:\n",
    "            if order['side'] == 'BUY':  \n",
    "                cancel_response = client.futures_cancel_order(symbol=order['symbol'], orderId=order['orderId'])\n",
    "                print(f\"Canceled order: {order['symbol']} - {order['orderId']}\")\n",
    "    else:\n",
    "        # Continue with the rest of the code\n",
    "        print(\"No open orders found.\")\n",
    "        time.sleep(1)  # Sleep for 1 second to avoid API rate limit\n",
    "\n",
    "    try:\n",
    "        order = client.futures_create_order(\n",
    "            symbol=symbol_C,\n",
    "            side='BUY',\n",
    "            type='LIMIT',\n",
    "            timeInForce='GTC',\n",
    "            quantity=quantity,\n",
    "            price=entry_p,\n",
    "            positionSide='LONG',\n",
    "        )\n",
    "        print('Order created successfully.')       \n",
    "        \n",
    "#         stop_loss_order = client.futures_create_order(\n",
    "#             symbol=symbol_C,\n",
    "#             side='SELL',\n",
    "#             type='STOP_MARKET',\n",
    "#             stopPrice=stop_loss_p,\n",
    "#             stopLimitTimeInForce='GTC',\n",
    "#             closePosition = 'true',\n",
    "#             positionSide = 'LONG'\n",
    "\n",
    "#         )\n",
    "#         print('Stop loss created successfully')\n",
    "        \n",
    "        take_profit_order = client.futures_create_order(\n",
    "            symbol=symbol_C,\n",
    "            side='SELL',\n",
    "            type='TAKE_PROFIT_MARKET',\n",
    "            stopPrice=take_profit_p,\n",
    "            stopLimitTimeInForce='GTC',\n",
    "            closePosition = 'true',\n",
    "            positionSide = 'LONG'\n",
    "        )\n",
    "        winsound.Beep(frequency, duration)\n",
    "        print('Take profit created successfully')\n",
    "            \n",
    "    except Exception as e:\n",
    "        print(f'Error creating order: {e}')\n",
    "        \n",
    "    print(str(symbol_C) + ' entered at ' + str(entry_p) + ', stop loss at ' + str(stop_loss_p))\n",
    "\n",
    "    return df"
   ]
  },
  {
   "cell_type": "code",
   "execution_count": 13,
   "id": "8b49e7d0",
   "metadata": {},
   "outputs": [],
   "source": [
    "def check_sl(df, current_sl):\n",
    "    \n",
    "    # 檢查前一根 Close 是否低於 SL，若低於，即刻停損\n",
    "    \n",
    "    print(f'Current SL at {current_sl}')\n",
    "    \n",
    "    if df.iloc[df.index[-2]]['Close'] <= current_sl:\n",
    "        \n",
    "        print('Last candle closed below SL, try create SL Order')\n",
    "\n",
    "        try:\n",
    "\n",
    "            stop_loss_order = client.futures_create_order(\n",
    "            symbol=symbol_C,\n",
    "            side='SELL',\n",
    "            type='STOP_MARKET',\n",
    "            stopPrice=current_sl,\n",
    "            stopLimitTimeInForce='GTC',\n",
    "            closePosition = 'true',\n",
    "            positionSide = 'LONG'\n",
    "            )\n",
    "        \n",
    "            print(f'Stop loss created successfully at: {current_sl}')\n",
    "            winsound.Beep(frequency, duration)\n",
    "        \n",
    "        except Exception as e:\n",
    "            \n",
    "            print(f'Error creating SL order: {e}')\n",
    "          "
   ]
  },
  {
   "cell_type": "code",
   "execution_count": 14,
   "id": "b4d5e658",
   "metadata": {},
   "outputs": [],
   "source": [
    "line_count = 0\n",
    "max_lines = 3\n",
    "\n",
    "current_k = 0\n",
    "\n",
    "def on_open(ws):\n",
    "    ws.send(data)\n",
    "    \n",
    "def on_message(ws, message):\n",
    "    \n",
    "    global current_k, line_count, max_lines\n",
    "    \n",
    "    df = get_historical(symbol, interval, start_time, end_time, step)\n",
    "\n",
    "    indicators(df)\n",
    "    conditions(df)\n",
    "    \n",
    "    try:\n",
    "        # 如果時間標籤改變，代表上個 Close 發生，檢查是否進場\n",
    "        if df['Close_Time'][len(df) - 1] != current_k:\n",
    "            \n",
    "            print('time changed')\n",
    "            current_k = df['Close_Time'][len(df) - 1]\n",
    "            \n",
    "            if df.iloc[df.index[-2]]['signal'] == True:\n",
    "                \n",
    "                winsound.Beep(frequency, duration)\n",
    "                df.loc[df.index[-1], 'open_entry'] = True\n",
    "                enter_position(df)\n",
    "                \n",
    "                print(df.tail(2))\n",
    "        \n",
    "    except Exception as e:\n",
    "        print(f'Error creating ENTRY order: {e}')\n",
    "        \n",
    "        \n",
    "    # 檢查停損\n",
    "    try:\n",
    "        positions_info = client.futures_position_information(symbol=symbol)\n",
    "        long_positions = [p for p in positions_info if p['positionSide'] == 'LONG' and float(p['positionAmt']) > 0]\n",
    "        \n",
    "        if long_positions == True:\n",
    "            \n",
    "            last_entry_row = df.loc[df['open_entry'].eq(True)].tail(1)\n",
    "            if not last_entry_row.empty:\n",
    "                current_sl = last_entry_row['stop_loss'].values[0]\n",
    "                check_sl(df, current_sl)\n",
    "                \n",
    "        else:\n",
    "            print('No LONG position. No SL')\n",
    "    \n",
    "    except Exception as e:\n",
    "        print(f'Error checking SL: {e}')\n",
    "\n",
    "\n",
    "    # 更新狀態\n",
    "    try:\n",
    "        df = df.reset_index(drop=True)\n",
    "        print('nothing happened...' + str(df.loc[df.index[-1], 'Close_Time']) + ' ' + str(df.loc[df.index[-1], 'Close']))\n",
    "        print()\n",
    "        print(df[['Close_Time', 'Open', 'Close', 'High', 'Low', 'Volume',\n",
    "                  'c1', 'c2', 'c3', 'c4', 'signal', 'open_entry']].tail(2))\n",
    "        print('----------------------------------------------------------------------------')\n",
    "        \n",
    "        positions = client.futures_account()['positions']\n",
    "        for position in positions:\n",
    "            if float(position['positionAmt']) != 0:\n",
    "                position_df = pd.DataFrame({'Symbol':position['symbol'],\n",
    "                                            'Side':position['positionSide'],\n",
    "                                            'Entry_P':round(float(position['entryPrice']),2),\n",
    "                                            'Amt':round(float(position['positionAmt']) * df.loc[df.index[-1], 'Close'],2),\n",
    "                                            'PL':round(float(position['unrealizedProfit']),2),\n",
    "                                            'X':round(float(position['leverage']),1),\n",
    "                                           }, index=[0])      \n",
    "                print(position_df)\n",
    "                print()\n",
    "\n",
    "    \n",
    "    except Exception as e:\n",
    "        print(f'Error UPDATING info: {e}')    \n",
    "        \n",
    "        \n",
    "    line_count += 1\n",
    "    if line_count >= max_lines:\n",
    "        clear_output(wait=True)\n",
    "        line_count = 0"
   ]
  },
  {
   "cell_type": "code",
   "execution_count": 15,
   "id": "9ed3c49d",
   "metadata": {
    "scrolled": true
   },
   "outputs": [
    {
     "name": "stdout",
     "output_type": "stream",
     "text": [
      "No LONG position. No SL\n",
      "nothing happened...2023-03-30 23:44:59 1790.54\n",
      "\n",
      "              Close_Time     Open    Close     High      Low     Volume     c1     c2     c3     c4  signal  open_entry\n",
      "723  2023-03-30 23:29:59  1793.34  1787.78  1794.99  1786.56  5764.6491  False  False  False  False   False       False\n",
      "724  2023-03-30 23:44:59  1787.78  1790.54  1791.34  1784.36  3169.2932   True  False  False  False   False       False\n",
      "----------------------------------------------------------------------------\n",
      "    Symbol   Side  Entry_P     Amt    PL     X\n",
      "0  ETHUSDT  SHORT  1792.02 -716.22  0.96  10.0\n",
      "\n",
      "No LONG position. No SL\n",
      "nothing happened...2023-03-30 23:44:59 1790.61\n",
      "\n",
      "              Close_Time     Open    Close     High      Low     Volume     c1     c2     c3     c4  signal  open_entry\n",
      "723  2023-03-30 23:29:59  1793.34  1787.78  1794.99  1786.56  5764.6491  False  False  False  False   False       False\n",
      "724  2023-03-30 23:44:59  1787.78  1790.61  1791.34  1784.36  3190.4580   True  False  False  False   False       False\n",
      "----------------------------------------------------------------------------\n",
      "    Symbol   Side  Entry_P     Amt    PL     X\n",
      "0  ETHUSDT  SHORT  1792.02 -716.24  0.94  10.0\n",
      "\n"
     ]
    },
    {
     "data": {
      "text/plain": [
       "False"
      ]
     },
     "execution_count": 15,
     "metadata": {},
     "output_type": "execute_result"
    }
   ],
   "source": [
    "ws = websocket.WebSocketApp(endpoint, on_message = on_message, on_open = on_open)\n",
    "ws.run_forever()"
   ]
  },
  {
   "cell_type": "code",
   "execution_count": 16,
   "id": "0fb85cca",
   "metadata": {},
   "outputs": [
    {
     "ename": "NameError",
     "evalue": "name 'position_df' is not defined",
     "output_type": "error",
     "traceback": [
      "\u001b[1;31m---------------------------------------------------------------------------\u001b[0m",
      "\u001b[1;31mNameError\u001b[0m                                 Traceback (most recent call last)",
      "\u001b[1;32m~\\AppData\\Local\\Temp\\ipykernel_15112\\1446389439.py\u001b[0m in \u001b[0;36m<module>\u001b[1;34m\u001b[0m\n\u001b[1;32m----> 1\u001b[1;33m \u001b[0mprint\u001b[0m\u001b[1;33m(\u001b[0m\u001b[0mposition_df\u001b[0m\u001b[1;33m)\u001b[0m\u001b[1;33m\u001b[0m\u001b[1;33m\u001b[0m\u001b[0m\n\u001b[0m",
      "\u001b[1;31mNameError\u001b[0m: name 'position_df' is not defined"
     ]
    }
   ],
   "source": [
    "print(position_df)"
   ]
  }
 ],
 "metadata": {
  "kernelspec": {
   "display_name": "Python 3 (ipykernel)",
   "language": "python",
   "name": "python3"
  },
  "language_info": {
   "codemirror_mode": {
    "name": "ipython",
    "version": 3
   },
   "file_extension": ".py",
   "mimetype": "text/x-python",
   "name": "python",
   "nbconvert_exporter": "python",
   "pygments_lexer": "ipython3",
   "version": "3.9.13"
  }
 },
 "nbformat": 4,
 "nbformat_minor": 5
}
