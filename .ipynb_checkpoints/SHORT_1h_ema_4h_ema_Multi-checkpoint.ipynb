{
 "cells": [
  {
   "cell_type": "code",
   "execution_count": 1,
   "id": "f64c425b",
   "metadata": {},
   "outputs": [
    {
     "name": "stdout",
     "output_type": "stream",
     "text": [
      "['leousdt', 'ldousdt', 'crousdt', 'xmrusdt', 'xlmusdt', 'tonusdt', 'icpusdt', 'bchusdt', 'ltcusdt', 'bnbusdt']\n"
     ]
    }
   ],
   "source": [
    "import requests\n",
    "\n",
    "# CoinGecko API endpoint for top coins by market cap\n",
    "url = 'https://api.coingecko.com/api/v3/coins/markets'\n",
    "\n",
    "# Request parameters\n",
    "params = {\n",
    "    'vs_currency': 'usd',\n",
    "    'order': 'price_change_percentage_24h',\n",
    "    'per_page': '40',\n",
    "    'page': '1',\n",
    "    'sparkline': 'false',\n",
    "}\n",
    "\n",
    "# Send a GET request to the API\n",
    "response = requests.get(url, params=params)\n",
    "\n",
    "# Check if the request was successful\n",
    "if response.status_code == 200:\n",
    "    # Parse the response JSON\n",
    "    data = response.json()\n",
    "\n",
    "    # Filter coins with market cap within top 50\n",
    "    top_50_coins = [coin for coin in data if coin['market_cap_rank'] <= 50]\n",
    "\n",
    "    # Sort coins by 24-hour percentage change\n",
    "    sorted_coins = sorted(top_50_coins, key=lambda x: x['price_change_percentage_24h'], reverse=False)\n",
    "\n",
    "    # Create an array of USDT pairs\n",
    "    symbol_arr = [coin['symbol'].lower() + 'usdt' for coin in sorted_coins[:10]]\n",
    "\n",
    "    # Print the symbol array\n",
    "    print(symbol_arr)\n",
    "else:\n",
    "    print(\"Error: Unable to fetch data from CoinGecko API.\")\n"
   ]
  },
  {
   "cell_type": "code",
   "execution_count": 2,
   "id": "203373d8",
   "metadata": {},
   "outputs": [
    {
     "data": {
      "text/plain": [
       "['leousdt',\n",
       " 'ldousdt',\n",
       " 'crousdt',\n",
       " 'xmrusdt',\n",
       " 'xlmusdt',\n",
       " 'tonusdt',\n",
       " 'icpusdt',\n",
       " 'bchusdt',\n",
       " 'ltcusdt',\n",
       " 'bnbusdt']"
      ]
     },
     "execution_count": 2,
     "metadata": {},
     "output_type": "execute_result"
    }
   ],
   "source": [
    "symbol_arr"
   ]
  },
  {
   "cell_type": "code",
   "execution_count": null,
   "id": "a4151e2d",
   "metadata": {},
   "outputs": [
    {
     "name": "stdout",
     "output_type": "stream",
     "text": [
      "      asset        free      locked\n",
      "0       BTC  0.00000000  0.00000000\n",
      "1       LTC  0.00000000  0.00000000\n",
      "2       ETH  0.00000000  0.00000000\n",
      "3       NEO  0.00000000  0.00000000\n",
      "4       BNB  0.04622450  0.00000000\n",
      "..      ...         ...         ...\n",
      "539    PEPE        0.00        0.00\n",
      "540   FLOKI        0.00        0.00\n",
      "541   COMBO  0.00000000  0.00000000\n",
      "542     MAV  0.00000000  0.00000000\n",
      "543  PENDLE  0.00000000  0.00000000\n",
      "\n",
      "[544 rows x 3 columns]\n"
     ]
    }
   ],
   "source": [
    "import multiprocessing  \n",
    "from multiprocessing import Pool\n",
    "import SHORT_1h_ema_4h_ema_Multi as strategy\n",
    "\n",
    "\n",
    "if __name__ == '__main__':\n",
    "    pool = Pool(processes=10)\n",
    "    pool.map(strategy.run, symbol_arr)"
   ]
  },
  {
   "cell_type": "code",
   "execution_count": null,
   "id": "6465b377",
   "metadata": {},
   "outputs": [],
   "source": []
  },
  {
   "cell_type": "code",
   "execution_count": null,
   "id": "0d8555da",
   "metadata": {},
   "outputs": [],
   "source": []
  }
 ],
 "metadata": {
  "kernelspec": {
   "display_name": "Python 3 (ipykernel)",
   "language": "python",
   "name": "python3"
  },
  "language_info": {
   "codemirror_mode": {
    "name": "ipython",
    "version": 3
   },
   "file_extension": ".py",
   "mimetype": "text/x-python",
   "name": "python",
   "nbconvert_exporter": "python",
   "pygments_lexer": "ipython3",
   "version": "3.9.13"
  }
 },
 "nbformat": 4,
 "nbformat_minor": 5
}
