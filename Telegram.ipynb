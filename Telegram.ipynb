{
 "cells": [
  {
   "cell_type": "code",
   "execution_count": null,
   "id": "11261bdd-9ce9-4d91-931e-b3c7ffe8ae1c",
   "metadata": {},
   "outputs": [
    {
     "name": "stdout",
     "output_type": "stream",
     "text": [
      "Starting bot...\n",
      "Polling...\n",
      "start short\n",
      "start long\n",
      "start long\n",
      "start long\n",
      "start short\n",
      "start long\n",
      "start short\n",
      "start long\n",
      "start short\n",
      "start long\n",
      "start short\n"
     ]
    }
   ],
   "source": [
    "!python telegram_bot.py"
   ]
  },
  {
   "cell_type": "code",
   "execution_count": null,
   "id": "3b3faa49-b1fe-4a5d-b6ba-6884d2905903",
   "metadata": {},
   "outputs": [],
   "source": []
  },
  {
   "cell_type": "code",
   "execution_count": null,
   "id": "bf4e4ec0-3c61-4cde-8098-cad1d7a91263",
   "metadata": {},
   "outputs": [],
   "source": []
  }
 ],
 "metadata": {
  "kernelspec": {
   "display_name": "Python 3 (ipykernel)",
   "language": "python",
   "name": "python3"
  },
  "language_info": {
   "codemirror_mode": {
    "name": "ipython",
    "version": 3
   },
   "file_extension": ".py",
   "mimetype": "text/x-python",
   "name": "python",
   "nbconvert_exporter": "python",
   "pygments_lexer": "ipython3",
   "version": "3.9.17"
  }
 },
 "nbformat": 4,
 "nbformat_minor": 5
}
