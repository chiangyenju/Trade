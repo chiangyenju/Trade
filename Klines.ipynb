{
 "cells": [
  {
   "cell_type": "code",
   "execution_count": 1,
   "id": "1878a590",
   "metadata": {},
   "outputs": [],
   "source": [
    "import requests\n",
    "import pandas as pd\n",
    "import datetime as dt\n",
    "import time"
   ]
  },
  {
   "cell_type": "code",
   "execution_count": 7,
   "id": "85a3378b",
   "metadata": {},
   "outputs": [],
   "source": [
    "endpoint = 'wss://stream.binance.com:9443/ws'\n",
    "symbol = 'ethusdt'\n",
    "symbol_C = symbol.upper()\n",
    "interval = '15m'\n",
    "\n",
    "start_time = 1672531200000\n",
    "end_time = round(time.time() * 1000)\n",
    "\n",
    "# step between timestamps in milliseconds\n",
    "step = 60000 * 3600"
   ]
  },
  {
   "cell_type": "code",
   "execution_count": 8,
   "id": "01c4e030",
   "metadata": {},
   "outputs": [],
   "source": [
    "def get_historical(symbol, interval, start_time, end_time, step):\n",
    "    \n",
    "    raw_df = pd.DataFrame()\n",
    "    \n",
    "    url = \"https://api.binance.com/api/v3/klines\"\n",
    "    \n",
    "    for timestamp in range(start_time, end_time, step):\n",
    "        params = {\"symbol\": symbol_C,\n",
    "                  \"interval\": interval,\n",
    "                  \"startTime\": timestamp,\n",
    "                  \"endTime\": timestamp + step}\n",
    "        response = requests.get(url, params=params).json()\n",
    "        out = pd.DataFrame(response, columns = [\"Open time\", \"Open\", \"High\", \"Low\", \"Close\",\n",
    "                                               \"Volume\", \"Close_Time\", \"Quote asset volume\",\n",
    "                                               \"Number of trades\", \"Taker buy base asset volume\",\n",
    "                                               \"Taker buy quote asset volume\", \"Ignore\"])\n",
    "        raw_df = pd.concat([raw_df, out], axis = 0)\n",
    "    \n",
    "    raw_df = raw_df[['Close_Time', 'Open', 'Close', \"High\", \"Low\", 'Volume']]\n",
    "\n",
    "    raw_df.to_hdf(f'klines_{symbol}_{interval}.h5', key='df', mode='w')"
   ]
  },
  {
   "cell_type": "code",
   "execution_count": 9,
   "id": "0c3677e2",
   "metadata": {},
   "outputs": [],
   "source": [
    "get_historical(symbol, interval, start_time, end_time, step)"
   ]
  },
  {
   "cell_type": "code",
   "execution_count": 11,
   "id": "489ca0d1",
   "metadata": {},
   "outputs": [
    {
     "name": "stdout",
     "output_type": "stream",
     "text": [
      "        Close_Time           Open          Close           High  \\\n",
      "0    1672532099999  1196.13000000  1194.55000000  1196.69000000   \n",
      "1    1672532999999  1194.55000000  1196.61000000  1196.70000000   \n",
      "2    1672533899999  1196.62000000  1193.64000000  1196.62000000   \n",
      "3    1672534799999  1193.64000000  1194.09000000  1195.06000000   \n",
      "4    1672535699999  1194.09000000  1195.38000000  1195.75000000   \n",
      "..             ...            ...            ...            ...   \n",
      "178  1680252299999  1791.56000000  1790.03000000  1791.57000000   \n",
      "179  1680253199999  1790.03000000  1790.00000000  1794.79000000   \n",
      "180  1680254099999  1790.00000000  1792.41000000  1792.42000000   \n",
      "181  1680254999999  1792.42000000  1791.09000000  1794.57000000   \n",
      "182  1680255899999  1791.10000000  1790.63000000  1791.10000000   \n",
      "\n",
      "               Low         Volume  \n",
      "0    1194.55000000  1245.88550000  \n",
      "1    1194.31000000  1141.60750000  \n",
      "2    1192.72000000  2206.94090000  \n",
      "3    1193.63000000  1294.95010000  \n",
      "4    1193.84000000  1175.80100000  \n",
      "..             ...            ...  \n",
      "178  1786.17000000  3931.31380000  \n",
      "179  1789.22000000  3287.25690000  \n",
      "180  1788.15000000  3931.28740000  \n",
      "181  1789.24000000  3750.83840000  \n",
      "182  1790.63000000    83.55080000  \n",
      "\n",
      "[8613 rows x 6 columns]\n"
     ]
    }
   ],
   "source": [
    "df = pd.read_hdf(f'klines_{symbol}_{interval}.h5', key='df')\n",
    "print(df)"
   ]
  },
  {
   "cell_type": "code",
   "execution_count": null,
   "id": "1f226d4c",
   "metadata": {},
   "outputs": [],
   "source": [
    "# def get_klines(symbol, interval, start_time, end_time, step):\n",
    "    \n",
    "#     df = pd.read_hdf(f'klines_{symbol}_{interval}.h5', key='df')\n",
    "    \n",
    "#     df = df[(df['Close_Time'] >= start_time) & (df['Close_Time'] <= end_time)]\n",
    "    \n",
    "#     df = df[['Close_Time', 'Open', 'Close', \"High\", \"Low\", 'Volume']]\n",
    "#     convert_dict = {'Close_Time': float, 'Open': float, 'Close': float, \"High\": float, \"Low\": float, 'Volume': float}\n",
    "#     df = df.astype(convert_dict)\n",
    "    \n",
    "#     df['Close_Time'] = pd.to_datetime(df['Close_Time'], unit = 'ms')\n",
    "#     df['Close_Time'] = df['Close_Time'] + pd.Timedelta(hours=timezone)\n",
    "#     df['Close_Time'] = df['Close_Time'].dt.strftime('%Y-%m-%d %H:%M:%S')\n",
    "    \n",
    "#     df = df.reset_index(drop=True)\n",
    "    \n",
    "#     return df"
   ]
  }
 ],
 "metadata": {
  "kernelspec": {
   "display_name": "Python 3 (ipykernel)",
   "language": "python",
   "name": "python3"
  },
  "language_info": {
   "codemirror_mode": {
    "name": "ipython",
    "version": 3
   },
   "file_extension": ".py",
   "mimetype": "text/x-python",
   "name": "python",
   "nbconvert_exporter": "python",
   "pygments_lexer": "ipython3",
   "version": "3.9.13"
  }
 },
 "nbformat": 4,
 "nbformat_minor": 5
}
