{
 "cells": [
  {
   "cell_type": "code",
   "execution_count": 1,
   "id": "f1fee6fa",
   "metadata": {},
   "outputs": [],
   "source": [
    "import requests\n",
    "import pandas as pd\n",
    "import datetime as dt\n",
    "import time"
   ]
  },
  {
   "cell_type": "code",
   "execution_count": 2,
   "id": "1f0c76ab",
   "metadata": {},
   "outputs": [],
   "source": [
    "endpoint = 'wss://stream.binance.com:9443/ws'\n",
    "symbol = 'ethusdt'\n",
    "symbol_C = symbol.upper()\n",
    "interval = '15m'\n",
    "\n",
    "# 2021/1/1\n",
    "start_time = 1609459200000\n",
    "end_time = round(time.time() * 1000)\n",
    "\n",
    "# step between timestamps in milliseconds\n",
    "step = 60000 * 3600"
   ]
  },
  {
   "cell_type": "code",
   "execution_count": 3,
   "id": "52994f89",
   "metadata": {},
   "outputs": [],
   "source": [
    "def get_historical(symbol, interval, start_time, end_time, step):\n",
    "    \n",
    "    raw_df = pd.DataFrame()\n",
    "    \n",
    "    url = \"https://api.binance.com/api/v3/klines\"\n",
    "    \n",
    "    for timestamp in range(start_time, end_time, step):\n",
    "        params = {\"symbol\": symbol_C,\n",
    "                  \"interval\": interval,\n",
    "                  \"startTime\": timestamp,\n",
    "                  \"endTime\": timestamp + step}\n",
    "        response = requests.get(url, params=params).json()\n",
    "        out = pd.DataFrame(response, columns = [\"Open time\", \"Open\", \"High\", \"Low\", \"Close\",\n",
    "                                               \"Volume\", \"Close_Time\", \"Quote asset volume\",\n",
    "                                               \"Number of trades\", \"Taker buy base asset volume\",\n",
    "                                               \"Taker buy quote asset volume\", \"Ignore\"])\n",
    "        raw_df = pd.concat([raw_df, out], axis = 0)\n",
    "    \n",
    "    raw_df = raw_df[['Close_Time', 'Open', 'Close', \"High\", \"Low\", 'Volume']]\n",
    "\n",
    "    raw_df.to_hdf(f'klines_{symbol}_{interval}.h5', key='df', mode='w')"
   ]
  },
  {
   "cell_type": "code",
   "execution_count": 4,
   "id": "78a17c03",
   "metadata": {},
   "outputs": [],
   "source": [
    "get_historical(symbol, interval, start_time, end_time, step)"
   ]
  },
  {
   "cell_type": "code",
   "execution_count": 5,
   "id": "8954a2d3",
   "metadata": {},
   "outputs": [
    {
     "name": "stdout",
     "output_type": "stream",
     "text": [
      "        Close_Time           Open          Close           High  \\\n",
      "0    1609460099999   736.42000000   731.14000000   739.00000000   \n",
      "1    1609460999999   731.14000000   731.60000000   732.28000000   \n",
      "2    1609461899999   731.55000000   733.54000000   734.29000000   \n",
      "3    1609462799999   733.54000000   734.07000000   735.59000000   \n",
      "4    1609463699999   734.08000000   743.41000000   743.47000000   \n",
      "..             ...            ...            ...            ...   \n",
      "163  1680238799999  1804.33000000  1804.71000000  1805.46000000   \n",
      "164  1680239699999  1804.71000000  1802.23000000  1808.50000000   \n",
      "165  1680240599999  1802.23000000  1802.89000000  1803.84000000   \n",
      "166  1680241499999  1802.90000000  1802.31000000  1803.92000000   \n",
      "167  1680242399999  1802.30000000  1796.18000000  1802.61000000   \n",
      "\n",
      "               Low          Volume  \n",
      "0     730.03000000  10679.63623000  \n",
      "1     729.33000000   6954.72694000  \n",
      "2     731.45000000   4958.21322000  \n",
      "3     732.38000000   5340.12245000  \n",
      "4     733.37000000  14643.20784000  \n",
      "..             ...             ...  \n",
      "163  1804.12000000   1775.32830000  \n",
      "164  1802.12000000   3571.82180000  \n",
      "165  1802.22000000   2062.25170000  \n",
      "166  1802.14000000   1798.66410000  \n",
      "167  1796.17000000   2132.56580000  \n",
      "\n",
      "[78905 rows x 6 columns]\n"
     ]
    }
   ],
   "source": [
    "df = pd.read_hdf(f'klines_{symbol}_{interval}.h5', key='df')\n",
    "print(df)"
   ]
  },
  {
   "cell_type": "code",
   "execution_count": null,
   "id": "700fecc4",
   "metadata": {},
   "outputs": [],
   "source": []
  }
 ],
 "metadata": {
  "kernelspec": {
   "display_name": "Python 3 (ipykernel)",
   "language": "python",
   "name": "python3"
  },
  "language_info": {
   "codemirror_mode": {
    "name": "ipython",
    "version": 3
   },
   "file_extension": ".py",
   "mimetype": "text/x-python",
   "name": "python",
   "nbconvert_exporter": "python",
   "pygments_lexer": "ipython3",
   "version": "3.9.13"
  }
 },
 "nbformat": 4,
 "nbformat_minor": 5
}
