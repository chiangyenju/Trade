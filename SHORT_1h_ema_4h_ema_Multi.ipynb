{
 "cells": [
  {
   "cell_type": "code",
   "execution_count": null,
   "id": "a4151e2d",
   "metadata": {},
   "outputs": [
    {
     "name": "stdout",
     "output_type": "stream",
     "text": [
      "      asset        free      locked\n",
      "0       BTC  0.00000000  0.00000000\n",
      "1       LTC  0.00000000  0.00000000\n",
      "2       ETH  0.00000000  0.00000000\n",
      "3       NEO  0.00000000  0.00000000\n",
      "4       BNB  0.04622450  0.00000000\n",
      "..      ...         ...         ...\n",
      "539    PEPE        0.00        0.00\n",
      "540   FLOKI        0.00        0.00\n",
      "541   COMBO  0.00000000  0.00000000\n",
      "542     MAV  0.00000000  0.00000000\n",
      "543  PENDLE  0.00000000  0.00000000\n",
      "\n",
      "[544 rows x 3 columns]\n"
     ]
    }
   ],
   "source": [
    "import multiprocessing  \n",
    "from multiprocessing import Pool\n",
    "import SHORT_1h_ema_4h_ema_Multi as strategy\n",
    "\n",
    "\n",
    "if __name__ == '__main__':\n",
    "    pool = Pool()\n",
    "    symbol_arr = ['sandusdt', 'dydxusdt', 'solusdt', 'avaxusdt', 'ftmusdt', 'nearusdt', 'imxusdt']\n",
    "    pool.map(strategy.run, symbol_arr)"
   ]
  },
  {
   "cell_type": "code",
   "execution_count": null,
   "id": "6465b377",
   "metadata": {},
   "outputs": [],
   "source": []
  },
  {
   "cell_type": "code",
   "execution_count": null,
   "id": "0d8555da",
   "metadata": {},
   "outputs": [],
   "source": []
  }
 ],
 "metadata": {
  "kernelspec": {
   "display_name": "Python 3 (ipykernel)",
   "language": "python",
   "name": "python3"
  },
  "language_info": {
   "codemirror_mode": {
    "name": "ipython",
    "version": 3
   },
   "file_extension": ".py",
   "mimetype": "text/x-python",
   "name": "python",
   "nbconvert_exporter": "python",
   "pygments_lexer": "ipython3",
   "version": "3.9.13"
  }
 },
 "nbformat": 4,
 "nbformat_minor": 5
}
