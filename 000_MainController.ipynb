{
 "cells": [
  {
   "cell_type": "code",
   "execution_count": null,
   "id": "9e518a29",
   "metadata": {},
   "outputs": [
    {
     "name": "stdout",
     "output_type": "stream",
     "text": [
      "No LONG position. No SL\n",
      "----------------------------------------------------------------------------\n",
      "2023-05-19 14:14:59 at 1807.25\n",
      "\n",
      "              Close_Time     Open    Close     High      Low     Volume        ema_8       ema_18     slow_k     slow_d     c1    c2    c3     c4  signal  open_entry\n",
      "254  2023-05-19 13:14:59  1804.68  1803.44  1806.60  1803.28  4202.4659  1802.176494  1801.886803  65.904573  49.865999  False  True  True  False   False       False\n",
      "255  2023-05-19 13:29:59  1803.45  1804.22  1805.11  1803.22  1001.7514  1802.630607  1802.132403  75.689479  59.308162  False  True  True  False   False       False\n",
      "256  2023-05-19 13:44:59  1804.22  1805.76  1806.22  1804.01   964.5348  1803.326027  1802.514255  91.419816  72.174685  False  True  True  False   False       False\n",
      "257  2023-05-19 13:59:59  1805.77  1805.40  1806.67  1804.88  1394.2872  1803.786910  1802.818018  87.119675  79.672832  False  True  True  False   False       False\n",
      "258  2023-05-19 14:14:59  1805.41  1807.25  1807.96  1804.30  1397.2118  1804.556486  1803.284542  93.352060  82.697121  False  True  True  False   False       False\n",
      "----------------------------------------------------------------------------\n",
      "101 iterations until restart\n"
     ]
    }
   ],
   "source": [
    "import time\n",
    "\n",
    "# Define the time interval in seconds\n",
    "interval = 60  # 3 hours\n",
    "\n",
    "# Run the restart code repeatedly\n",
    "while True:\n",
    "    # Execute the restart code by running the `restart.ipynb` notebook\n",
    "    %run 000_007_LONG_kd&ema&atr_15m.ipynb\n",
    "    \n",
    "    # Wait for the specified interval\n",
    "    time.sleep(interval)"
   ]
  },
  {
   "cell_type": "code",
   "execution_count": null,
   "id": "2a814a58",
   "metadata": {},
   "outputs": [],
   "source": []
  }
 ],
 "metadata": {
  "kernelspec": {
   "display_name": "Python 3 (ipykernel)",
   "language": "python",
   "name": "python3"
  },
  "language_info": {
   "codemirror_mode": {
    "name": "ipython",
    "version": 3
   },
   "file_extension": ".py",
   "mimetype": "text/x-python",
   "name": "python",
   "nbconvert_exporter": "python",
   "pygments_lexer": "ipython3",
   "version": "3.9.13"
  }
 },
 "nbformat": 4,
 "nbformat_minor": 5
}
