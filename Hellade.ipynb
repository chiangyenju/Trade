{
 "cells": [
  {
   "cell_type": "code",
   "execution_count": 10,
   "id": "15f6880c",
   "metadata": {},
   "outputs": [],
   "source": [
    "# Step 1: Load the image\n",
    "# You can use the OpenCV library to load the image. Here's the code:\n",
    "import cv2\n",
    "img = cv2.imread('image.jpg')"
   ]
  },
  {
   "cell_type": "code",
   "execution_count": 11,
   "id": "cbfe1e67",
   "metadata": {},
   "outputs": [],
   "source": [
    "# Step 2: Convert the image to grayscale\n",
    "# We need to convert the image to grayscale to make it easier to detect the brighter dots. Here's the code:\n",
    "gray = cv2.cvtColor(img, cv2.COLOR_BGR2GRAY)"
   ]
  },
  {
   "cell_type": "code",
   "execution_count": 12,
   "id": "434a6e44",
   "metadata": {},
   "outputs": [],
   "source": [
    "clahe = cv2.createCLAHE(clipLimit=2.0, tileGridSize=(8,8))\n",
    "clahed = clahe.apply(gray)"
   ]
  },
  {
   "cell_type": "code",
   "execution_count": 13,
   "id": "f75615bc",
   "metadata": {},
   "outputs": [],
   "source": [
    "_, thresh = cv2.threshold(clahed, 0, 255, cv2.THRESH_BINARY+cv2.THRESH_OTSU)\n"
   ]
  },
  {
   "cell_type": "code",
   "execution_count": 14,
   "id": "aac2f852",
   "metadata": {},
   "outputs": [],
   "source": [
    "contours, hierarchy = cv2.findContours(thresh, cv2.RETR_EXTERNAL, cv2.CHAIN_APPROX_SIMPLE)\n"
   ]
  },
  {
   "cell_type": "code",
   "execution_count": 15,
   "id": "ed414006",
   "metadata": {},
   "outputs": [],
   "source": [
    "num = 1\n",
    "for i in range(len(contours)):\n",
    "    # Get the bounding box of the contour\n",
    "    (x,y,w,h) = cv2.boundingRect(contours[i])\n",
    "    # Draw a cross at the center of the bounding box\n",
    "    cv2.line(img, (x + w//2, y), (x + w//2, y + h), (0, 255, 0), 2)\n",
    "    cv2.line(img, (x, y + h//2), (x + w, y + h//2), (0, 255, 0), 2)\n",
    "    # Draw the ascending number\n",
    "    cv2.putText(img, str(num), (x, y - 5), cv2.FONT_HERSHEY_SIMPLEX, 0.5, (0, 255, 0), 2)\n",
    "    num += 1"
   ]
  },
  {
   "cell_type": "code",
   "execution_count": 16,
   "id": "e9009744",
   "metadata": {},
   "outputs": [],
   "source": [
    "cv2.imshow('Result', img)\n",
    "cv2.waitKey(0)\n",
    "cv2.destroyAllWindows()"
   ]
  },
  {
   "cell_type": "code",
   "execution_count": 17,
   "id": "1b821d98",
   "metadata": {},
   "outputs": [
    {
     "ename": "SyntaxError",
     "evalue": "unexpected EOF while parsing (3311513130.py, line 17)",
     "output_type": "error",
     "traceback": [
      "\u001b[1;36m  File \u001b[1;32m\"C:\\Users\\yenju\\AppData\\Local\\Temp\\ipykernel_1808\\3311513130.py\"\u001b[1;36m, line \u001b[1;32m17\u001b[0m\n\u001b[1;33m    contours, hierarchy = cv2.findContours(thresh, cv2.RETR_EXTERNAL, cv2.CH\u001b[0m\n\u001b[1;37m                                                                            ^\u001b[0m\n\u001b[1;31mSyntaxError\u001b[0m\u001b[1;31m:\u001b[0m unexpected EOF while parsing\n"
     ]
    }
   ],
   "source": [
    "import cv2\n",
    "\n",
    "# Load the image\n",
    "img = cv2.imread('path/to/your/image.png')\n",
    "\n",
    "# Convert the image to grayscale\n",
    "gray = cv2.cvtColor(img, cv2.COLOR_BGR2GRAY)\n",
    "\n",
    "# Enhance the contrast of the image\n",
    "clahe = cv2.createCLAHE(clipLimit=2.0, tileGridSize=(8,8))\n",
    "clahed = clahe.apply(gray)\n",
    "\n",
    "# Threshold the image\n",
    "_, thresh = cv2.threshold(clahed, 0, 255, cv2.THRESH_BINARY+cv2.THRESH_OTSU)\n",
    "\n",
    "# Find the contours\n",
    "contours, hierarchy = cv2.findContours(thresh, cv2.RETR_EXTERNAL, cv2.CH"
   ]
  },
  {
   "cell_type": "code",
   "execution_count": null,
   "id": "5a33ddae",
   "metadata": {},
   "outputs": [],
   "source": []
  }
 ],
 "metadata": {
  "kernelspec": {
   "display_name": "Python 3 (ipykernel)",
   "language": "python",
   "name": "python3"
  },
  "language_info": {
   "codemirror_mode": {
    "name": "ipython",
    "version": 3
   },
   "file_extension": ".py",
   "mimetype": "text/x-python",
   "name": "python",
   "nbconvert_exporter": "python",
   "pygments_lexer": "ipython3",
   "version": "3.9.13"
  }
 },
 "nbformat": 4,
 "nbformat_minor": 5
}
