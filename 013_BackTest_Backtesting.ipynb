{
 "cells": [
  {
   "cell_type": "code",
   "execution_count": 1,
   "id": "4dfbf6af",
   "metadata": {},
   "outputs": [],
   "source": [
    "# 1609492611000, 1641028611000, 1672564611000 (2021, 2022, 2023) 1677632461000"
   ]
  },
  {
   "cell_type": "code",
   "execution_count": 2,
   "id": "3aa441f6",
   "metadata": {},
   "outputs": [],
   "source": [
    "# ! conda install -c conda-forge ta --yes"
   ]
  },
  {
   "cell_type": "code",
   "execution_count": 3,
   "id": "8514de69",
   "metadata": {},
   "outputs": [],
   "source": [
    "import requests\n",
    "import pandas as pd\n",
    "import pandas_ta as p_ta\n",
    "import ta\n",
    "import matplotlib.pyplot as plt\n",
    "import datetime as dt\n",
    "import numpy as np\n",
    "import time"
   ]
  },
  {
   "cell_type": "code",
   "execution_count": 21,
   "id": "73d39fb4",
   "metadata": {},
   "outputs": [],
   "source": [
    "from backtesting import Backtest\n",
    "from backtesting import Strategy\n",
    "from backtesting.lib import crossover, resample_apply"
   ]
  },
  {
   "cell_type": "code",
   "execution_count": 5,
   "id": "a15d4b14",
   "metadata": {},
   "outputs": [],
   "source": [
    "interval_arr = ['15m', '1h', '4h', '1d']\n",
    "start_time_arr = [1677632461000]"
   ]
  },
  {
   "cell_type": "code",
   "execution_count": 6,
   "id": "2b700831",
   "metadata": {},
   "outputs": [],
   "source": [
    "timezone = 8\n",
    "symbol = 'ethusdt'\n",
    "symbol_C = symbol.upper()\n",
    "interval = '15m'\n",
    "\n",
    "start_time = 1679274061000\n",
    "end_time = round(time.time() * 1000)\n",
    "\n",
    "# step between timestamps in milliseconds\n",
    "step = 60000 * 3600"
   ]
  },
  {
   "cell_type": "code",
   "execution_count": 7,
   "id": "bda8df75",
   "metadata": {},
   "outputs": [],
   "source": [
    "def create_raw(symbol, interval_arr, start_time, end_time, step):\n",
    "    \n",
    "    url = \"https://api.binance.com/api/v3/klines\"\n",
    "    \n",
    "    for interval in interval_arr:\n",
    "\n",
    "        raw_df = pd.DataFrame()\n",
    "        \n",
    "        for timestamp in range(start_time, end_time, step):\n",
    "            params = {\"symbol\": symbol_C,\n",
    "                      \"interval\": interval,\n",
    "                      \"startTime\": timestamp,\n",
    "                      \"endTime\": timestamp + step}\n",
    "            response = requests.get(url, params=params).json()\n",
    "            out = pd.DataFrame(response, columns = [\"Open time\", \"Open\", \"High\", \"Low\", \"Close\",\n",
    "                                                   \"Volume\", \"Close_Time\", \"Quote asset volume\",\n",
    "                                                   \"Number of trades\", \"Taker buy base asset volume\",\n",
    "                                                   \"Taker buy quote asset volume\", \"Ignore\"])\n",
    "            raw_df = pd.concat([raw_df, out], axis = 0)\n",
    "\n",
    "        raw_df = raw_df[['Close_Time', 'Open', 'Close', \"High\", \"Low\", 'Volume']]\n",
    "\n",
    "        raw_df.to_hdf(f'klines_{symbol}_{interval}.h5', key='df', mode='w')\n",
    "        print(f\"Created {symbol}_{interval}\")"
   ]
  },
  {
   "cell_type": "code",
   "execution_count": 8,
   "id": "cd91e13f",
   "metadata": {
    "scrolled": true
   },
   "outputs": [
    {
     "name": "stdout",
     "output_type": "stream",
     "text": [
      "Created ethusdt_15m\n",
      "Created ethusdt_1h\n",
      "Created ethusdt_4h\n",
      "Created ethusdt_1d\n",
      "Time taken to execute for loop: 8.050949573516846 seconds\n"
     ]
    }
   ],
   "source": [
    "loop_start_time = time.time()\n",
    "create_raw(symbol, interval_arr, min(start_time_arr), end_time, step)\n",
    "loop_end_time = time.time()\n",
    "print(\"Time taken to execute for loop:\", loop_end_time - loop_start_time, \"seconds\")"
   ]
  },
  {
   "cell_type": "code",
   "execution_count": 9,
   "id": "c8b35b41",
   "metadata": {
    "scrolled": true
   },
   "outputs": [
    {
     "name": "stdout",
     "output_type": "stream",
     "text": [
      "      Close_Time           Open          Close           High            Low  \\\n",
      "0  1681257599999  1910.21000000  1918.66000000  1937.37000000  1906.25000000   \n",
      "\n",
      "            Volume  \n",
      "0  232101.56650000  \n"
     ]
    }
   ],
   "source": [
    "h5 = pd.read_hdf(f'klines_{symbol}_{interval_arr[-1]}.h5', key='df')\n",
    "print(h5.tail(1))"
   ]
  },
  {
   "cell_type": "code",
   "execution_count": 10,
   "id": "1c777c68",
   "metadata": {},
   "outputs": [],
   "source": [
    "def time_format(timezone):\n",
    "#     df['Close_Time'] = pd.to_datetime(df['Close_Time'], unit='ms') + pd.Timedelta(hours=timezone)\n",
    "#     df['Close_Time'] = df['Close_Time'].dt.strftime('%Y-%m-%d %H:%M:%S')\n",
    "    df.index = pd.to_datetime(df.index, unit='ms') + pd.Timedelta(hours=timezone)\n",
    "#     df.index = df.index.strftime('%Y-%m-%d %H:%M:%S')"
   ]
  },
  {
   "cell_type": "code",
   "execution_count": 72,
   "id": "74555264",
   "metadata": {
    "scrolled": true
   },
   "outputs": [],
   "source": [
    "klines_cache = {}\n",
    "\n",
    "def get_klines(symbol, interval, start_time, end_time):\n",
    "    if (symbol, interval) not in klines_cache:\n",
    "        klines_cache[(symbol, interval)] = pd.read_hdf(f'klines_{symbol}_{interval}.h5', key='df')\n",
    "\n",
    "    df = klines_cache[(symbol, interval)].query(f\"Close_Time >= {start_time} and Close_Time <= {end_time}\")\n",
    "\n",
    "    df = df[['Close_Time', 'Open', 'Close', \"High\", \"Low\", 'Volume']].astype(float)\n",
    "\n",
    "    df = df.set_index('Close_Time')\n",
    "#     df = df.reset_index(drop=True)\n",
    "\n",
    "    df.index = pd.to_datetime(df.index, unit='ms') + pd.Timedelta(hours=timezone)\n",
    "\n",
    "    print(df)\n",
    "\n",
    "    return df"
   ]
  },
  {
   "cell_type": "code",
   "execution_count": 73,
   "id": "cc2607d9",
   "metadata": {},
   "outputs": [],
   "source": [
    "cash = 20000\n",
    "leverage = 10\n",
    "commission = 0.05/100"
   ]
  },
  {
   "cell_type": "code",
   "execution_count": 78,
   "id": "256988e7",
   "metadata": {
    "scrolled": true
   },
   "outputs": [
    {
     "name": "stdout",
     "output_type": "stream",
     "text": [
      "                                  Open    Close     High      Low     Volume\n",
      "2023-03-20 09:14:59.999000064  1771.42  1777.05  1778.59  1761.62  9531.7973\n",
      "2023-03-20 09:29:59.999000064  1777.06  1777.17  1778.70  1773.93  3494.7823\n",
      "2023-03-20 09:44:59.999000064  1777.17  1777.98  1779.40  1774.04  4846.9503\n",
      "2023-03-20 09:59:59.999000064  1777.98  1774.79  1779.20  1771.16  4508.2285\n",
      "2023-03-20 10:14:59.999000064  1774.78  1779.04  1779.82  1771.58  6104.2944\n",
      "...                                ...      ...      ...      ...        ...\n",
      "2023-04-11 21:29:59.999000064  1913.72  1916.61  1916.62  1913.10  2274.4557\n",
      "2023-04-11 21:44:59.999000064  1916.62  1913.55  1917.81  1912.02  3805.2792\n",
      "2023-04-11 21:59:59.999000064  1913.55  1920.47  1921.88  1913.06  6662.6918\n",
      "2023-04-11 22:14:59.999000064  1920.46  1918.30  1922.91  1917.78  4724.8478\n",
      "2023-04-11 22:29:59.999000064  1918.29  1919.90  1920.74  1915.86  3235.7168\n",
      "\n",
      "[2161 rows x 5 columns]\n"
     ]
    },
    {
     "ename": "AttributeError",
     "evalue": "Column 'set_index' not in data",
     "output_type": "error",
     "traceback": [
      "\u001b[1;31m---------------------------------------------------------------------------\u001b[0m",
      "\u001b[1;31mAttributeError\u001b[0m                            Traceback (most recent call last)",
      "\u001b[1;32m~\\AppData\\Local\\Temp\\ipykernel_12128\\355715648.py\u001b[0m in \u001b[0;36m<module>\u001b[1;34m\u001b[0m\n\u001b[0;32m     49\u001b[0m              margin = 1/leverage)\n\u001b[0;32m     50\u001b[0m \u001b[1;33m\u001b[0m\u001b[0m\n\u001b[1;32m---> 51\u001b[1;33m \u001b[0mstats\u001b[0m \u001b[1;33m=\u001b[0m \u001b[0mbt\u001b[0m\u001b[1;33m.\u001b[0m\u001b[0mrun\u001b[0m\u001b[1;33m(\u001b[0m\u001b[1;33m)\u001b[0m\u001b[1;33m\u001b[0m\u001b[1;33m\u001b[0m\u001b[0m\n\u001b[0m\u001b[0;32m     52\u001b[0m \u001b[0mprint\u001b[0m\u001b[1;33m(\u001b[0m\u001b[0mstats\u001b[0m\u001b[1;33m)\u001b[0m\u001b[1;33m\u001b[0m\u001b[1;33m\u001b[0m\u001b[0m\n\u001b[0;32m     53\u001b[0m \u001b[0mbt\u001b[0m\u001b[1;33m.\u001b[0m\u001b[0mplot\u001b[0m\u001b[1;33m(\u001b[0m\u001b[0mfilename\u001b[0m \u001b[1;33m=\u001b[0m \u001b[1;34m'backtesting.html'\u001b[0m\u001b[1;33m)\u001b[0m\u001b[1;33m\u001b[0m\u001b[1;33m\u001b[0m\u001b[0m\n",
      "\u001b[1;32m~\\anaconda3\\lib\\site-packages\\backtesting\\backtesting.py\u001b[0m in \u001b[0;36mrun\u001b[1;34m(self, **kwargs)\u001b[0m\n\u001b[0;32m   1137\u001b[0m         \u001b[0mstrategy\u001b[0m\u001b[1;33m:\u001b[0m \u001b[0mStrategy\u001b[0m \u001b[1;33m=\u001b[0m \u001b[0mself\u001b[0m\u001b[1;33m.\u001b[0m\u001b[0m_strategy\u001b[0m\u001b[1;33m(\u001b[0m\u001b[0mbroker\u001b[0m\u001b[1;33m,\u001b[0m \u001b[0mdata\u001b[0m\u001b[1;33m,\u001b[0m \u001b[0mkwargs\u001b[0m\u001b[1;33m)\u001b[0m\u001b[1;33m\u001b[0m\u001b[1;33m\u001b[0m\u001b[0m\n\u001b[0;32m   1138\u001b[0m \u001b[1;33m\u001b[0m\u001b[0m\n\u001b[1;32m-> 1139\u001b[1;33m         \u001b[0mstrategy\u001b[0m\u001b[1;33m.\u001b[0m\u001b[0minit\u001b[0m\u001b[1;33m(\u001b[0m\u001b[1;33m)\u001b[0m\u001b[1;33m\u001b[0m\u001b[1;33m\u001b[0m\u001b[0m\n\u001b[0m\u001b[0;32m   1140\u001b[0m         \u001b[0mdata\u001b[0m\u001b[1;33m.\u001b[0m\u001b[0m_update\u001b[0m\u001b[1;33m(\u001b[0m\u001b[1;33m)\u001b[0m  \u001b[1;31m# Strategy.init might have changed/added to data.df\u001b[0m\u001b[1;33m\u001b[0m\u001b[1;33m\u001b[0m\u001b[0m\n\u001b[0;32m   1141\u001b[0m \u001b[1;33m\u001b[0m\u001b[0m\n",
      "\u001b[1;32m~\\AppData\\Local\\Temp\\ipykernel_12128\\355715648.py\u001b[0m in \u001b[0;36minit\u001b[1;34m(self)\u001b[0m\n\u001b[0;32m     15\u001b[0m     \u001b[1;32mdef\u001b[0m \u001b[0minit\u001b[0m\u001b[1;33m(\u001b[0m\u001b[0mself\u001b[0m\u001b[1;33m)\u001b[0m\u001b[1;33m:\u001b[0m\u001b[1;33m\u001b[0m\u001b[1;33m\u001b[0m\u001b[0m\n\u001b[0;32m     16\u001b[0m \u001b[1;33m\u001b[0m\u001b[0m\n\u001b[1;32m---> 17\u001b[1;33m         \u001b[0mself\u001b[0m\u001b[1;33m.\u001b[0m\u001b[0mdata\u001b[0m \u001b[1;33m=\u001b[0m \u001b[0mself\u001b[0m\u001b[1;33m.\u001b[0m\u001b[0mdata\u001b[0m\u001b[1;33m.\u001b[0m\u001b[0mset_index\u001b[0m\u001b[1;33m(\u001b[0m\u001b[1;34m'Close_Time'\u001b[0m\u001b[1;33m)\u001b[0m\u001b[1;33m\u001b[0m\u001b[1;33m\u001b[0m\u001b[0m\n\u001b[0m\u001b[0;32m     18\u001b[0m         \u001b[0mclose_series\u001b[0m \u001b[1;33m=\u001b[0m \u001b[0mpd\u001b[0m\u001b[1;33m.\u001b[0m\u001b[0mSeries\u001b[0m\u001b[1;33m(\u001b[0m\u001b[0mself\u001b[0m\u001b[1;33m.\u001b[0m\u001b[0mdata\u001b[0m\u001b[1;33m.\u001b[0m\u001b[0mClose\u001b[0m\u001b[1;33m)\u001b[0m\u001b[1;33m\u001b[0m\u001b[1;33m\u001b[0m\u001b[0m\n\u001b[0;32m     19\u001b[0m \u001b[1;33m\u001b[0m\u001b[0m\n",
      "\u001b[1;32m~\\anaconda3\\lib\\site-packages\\backtesting\\_util.py\u001b[0m in \u001b[0;36m__getattr__\u001b[1;34m(self, item)\u001b[0m\n\u001b[0;32m    123\u001b[0m             \u001b[1;32mreturn\u001b[0m \u001b[0mself\u001b[0m\u001b[1;33m.\u001b[0m\u001b[0m__get_array\u001b[0m\u001b[1;33m(\u001b[0m\u001b[0mitem\u001b[0m\u001b[1;33m)\u001b[0m\u001b[1;33m\u001b[0m\u001b[1;33m\u001b[0m\u001b[0m\n\u001b[0;32m    124\u001b[0m         \u001b[1;32mexcept\u001b[0m \u001b[0mKeyError\u001b[0m\u001b[1;33m:\u001b[0m\u001b[1;33m\u001b[0m\u001b[1;33m\u001b[0m\u001b[0m\n\u001b[1;32m--> 125\u001b[1;33m             \u001b[1;32mraise\u001b[0m \u001b[0mAttributeError\u001b[0m\u001b[1;33m(\u001b[0m\u001b[1;34mf\"Column '{item}' not in data\"\u001b[0m\u001b[1;33m)\u001b[0m \u001b[1;32mfrom\u001b[0m \u001b[1;32mNone\u001b[0m\u001b[1;33m\u001b[0m\u001b[1;33m\u001b[0m\u001b[0m\n\u001b[0m\u001b[0;32m    126\u001b[0m \u001b[1;33m\u001b[0m\u001b[0m\n\u001b[0;32m    127\u001b[0m     \u001b[1;32mdef\u001b[0m \u001b[0m_set_length\u001b[0m\u001b[1;33m(\u001b[0m\u001b[0mself\u001b[0m\u001b[1;33m,\u001b[0m \u001b[0mi\u001b[0m\u001b[1;33m)\u001b[0m\u001b[1;33m:\u001b[0m\u001b[1;33m\u001b[0m\u001b[1;33m\u001b[0m\u001b[0m\n",
      "\u001b[1;31mAttributeError\u001b[0m: Column 'set_index' not in data"
     ]
    }
   ],
   "source": [
    "class RsiOscillator(Strategy):\n",
    "    \n",
    "    rsi_up = 70\n",
    "    rsi_low = 30\n",
    "    rsi_window = 14\n",
    "    \n",
    "    kd_int = 14\n",
    "    d_int = 3\n",
    "    \n",
    "    ema1 = 8\n",
    "    ema2 = 18\n",
    "    ema3 = 38\n",
    "\n",
    "    # Do as much initial computation as possible\n",
    "    def init(self):\n",
    "        \n",
    "        self.data = self.data.set_index('Close_Time')\n",
    "        close_series = pd.Series(self.data.Close)\n",
    "            \n",
    "        self.rsi_15m = self.I(p_ta.rsi, close_series, self.rsi_window)\n",
    "        self.rsi_1h = resample_apply('H', p_ta.rsi, close_series, self.rsi_window)\n",
    "        \n",
    "        self.ema1 = self.I(ta.trend.ema_indicator, close_series, window=self.ema1)  \n",
    "        self.ema2 = self.I(ta.trend.ema_indicator, close_series, window=self.ema2)   \n",
    "        self.ema3 = self.I(ta.trend.ema_indicator, close_series, window=self.ema3)   \n",
    "\n",
    "        \n",
    "        kd = ta.momentum.StochasticOscillator(high = pd.Series(self.data.High),\n",
    "                                              low = pd.Series(self.data.Low),\n",
    "                                              close = close_series,\n",
    "                                              window = self.kd_int,\n",
    "                                              smooth_window = self.d_int)\n",
    "        \n",
    "        self.k = self.I(kd.stoch)\n",
    "        self.d = self.I(kd.stoch_signal)\n",
    "\n",
    "    # Step through bars one by one\n",
    "\n",
    "    def next(self):\n",
    "        if (self.rsi_15m[-5:] > self.rsi_up).any() and crossover(self.d, self.k):\n",
    "            self.position.close()\n",
    "        elif (self.rsi_15m[-5:] < self.rsi_low).any() and crossover(self.k, self.d):\n",
    "            self.buy(size = 0.1)\n",
    "\n",
    "bt = Backtest(get_klines(symbol, interval, start_time, end_time),\n",
    "             RsiOscillator,\n",
    "             cash = cash,\n",
    "             commission = commission,\n",
    "             margin = 1/leverage)\n",
    "\n",
    "stats = bt.run()\n",
    "print(stats)\n",
    "bt.plot(filename = 'backtesting.html')"
   ]
  },
  {
   "cell_type": "code",
   "execution_count": 61,
   "id": "7fb499cc",
   "metadata": {},
   "outputs": [
    {
     "name": "stdout",
     "output_type": "stream",
     "text": [
      "2004-08-19    100.34\n",
      "2004-08-20    108.31\n",
      "2004-08-23    109.40\n",
      "2004-08-24    104.87\n",
      "2004-08-25    106.00\n",
      "               ...  \n",
      "2013-02-25    790.77\n",
      "2013-02-26    790.13\n",
      "2013-02-27    799.78\n",
      "2013-02-28    801.20\n",
      "2013-03-01    806.19\n",
      "Name: Close, Length: 2148, dtype: float64\n"
     ]
    }
   ],
   "source": [
    "from backtesting.test import GOOG\n",
    "print(pd.Series(GOOG.Close))"
   ]
  },
  {
   "cell_type": "code",
   "execution_count": null,
   "id": "54d1ec44",
   "metadata": {},
   "outputs": [],
   "source": []
  }
 ],
 "metadata": {
  "kernelspec": {
   "display_name": "Python 3 (ipykernel)",
   "language": "python",
   "name": "python3"
  },
  "language_info": {
   "codemirror_mode": {
    "name": "ipython",
    "version": 3
   },
   "file_extension": ".py",
   "mimetype": "text/x-python",
   "name": "python",
   "nbconvert_exporter": "python",
   "pygments_lexer": "ipython3",
   "version": "3.9.13"
  }
 },
 "nbformat": 4,
 "nbformat_minor": 5
}
